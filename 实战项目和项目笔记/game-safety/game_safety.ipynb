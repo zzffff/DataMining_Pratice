{
 "cells": [
  {
   "cell_type": "markdown",
   "metadata": {},
   "source": [
    "# 介绍："
   ]
  },
  {
   "cell_type": "code",
   "execution_count": null,
   "metadata": {},
   "outputs": [],
   "source": [
    "某公司2019年的游戏安全数据分析竞赛\n",
    "\n",
    "数据背景：\n",
    "该游戏是个MOBA类型的游戏，有每个选手的每场比赛表现流水，目的是为了从这些比赛流水中找出代练账户\n",
    "conseq为战绩流水，doing是比赛中的行为流水\n",
    "\n",
    "注：\n",
    "1.由于原本的数据量过大（电脑跑不动），在这里分析的数据是原来的1/10，并且为了提高运行速度已经由csv转换为了npy格式\n",
    "2.doing数据表示玩家在比赛中的行为流水，conseq数据表示玩家在比赛中的战绩流水\n",
    "3.关于拟合模型的指标：\n",
    "    分析label的两个值各占比例，可以看出这是个高度不对称数据，为1的样本量仅占11%左右。\n",
    "    因此不适合用分类正确率来作为判断结果的参考，因为傻瓜分类器也能分类正确率高达89%\n",
    "    根据题目要求要找到所谓“代练账户”，我认为召回率（所有真实显著样本中被检查出显著的样本数量/所有真实显著样本数量）越高越好\n",
    "    假阳性率越低越好（即真实不显著样本数量/所有被检验出显著的样本数量）\n",
    "    因此使用roc这一指标,照顾了这两者(通常假阳性和召回率同增同减,我希望前者小后者大,比如说检验越松散,往往召回率越高,但是假阳性比例也会越高)\n",
    "    通常roc是越高越好，最大为1，超过0.8则不错了\n",
    "    这题，傻瓜分类器全部预测为0，虽然正确率高达89%，但是召回率只有0\n",
    "4.官方的评分标准是：计算得分score=4PR/(P+3R)*100%，其中P为测试集预测结果整体的准确度，R表示测试集预测结果被判为代练的玩家在真实代练玩家中的覆盖度（召回率）\n",
    "   要求召回率越高越好，同时假阳性率越低越好，因为不能把没开挂的人误封，这样非常不妥。\n",
    "\n",
    "提取的特征：\n",
    "思路：（可视化提取）\n",
    "面对这么多统计量，并不是全部都保留，而是看它们在不同label下的直方图是否相同，差距是否很大，如果差距很大说明这个特征可能有一定作用。\n",
    "\n",
    "最终结果显示比较重要的特征：\n",
    "    随机森林显示，重要的特征依次是：\n",
    "        该玩家在所有比赛中的平均排名，英雄熟练度的最大值，游戏对局时长最大值，对局评价分最大值，所有局中造成的魔法伤害最大值\n",
    "    根据xgb的plot_importance判断特征重要性(降序，只列出了10个)：\n",
    "        该玩家在所有比赛中的平均排名，英雄熟练度的最大值，游戏对局时长最大值，对局评价分最大值，击杀数量中位数，\n",
    "        造成魔法伤害的极差，最大连杀次数的最大值，游戏时长的极差，造成魔法伤害的最大值，击杀数量的极差\n",
    "\n",
    "\n",
    "待提升空间：\n",
    "本次分析没有对提取后的数据进行各种encode操作，没有使用全部的数据，也没有使用模型融合或者调参等技术，\n",
    "没有对两个16进制的特征进行好好利用（解码）。"
   ]
  },
  {
   "cell_type": "code",
   "execution_count": null,
   "metadata": {},
   "outputs": [],
   "source": [
    "总结：\n",
    "1.本次项目的难点主要在于数据全是时间序列数据，需要有效的特征提取\n",
    "2.模型在只有1/10的数据，以及没有使用时间型数据以及没有任何调参的情况下获得了0.83左右的AUC，效果还可以\n",
    "3.提取特征时，面对许多数值型特征的许多统计量，不一定要全部都提取。\n",
    "  考虑在label不同的情况下该统计量的分布区别越大的特征越有提取的意义（说明该特征分类能力强）"
   ]
  },
  {
   "cell_type": "code",
   "execution_count": 2,
   "metadata": {},
   "outputs": [],
   "source": [
    "import pandas as pd\n",
    "import numpy as np\n",
    "import matplotlib.pyplot as plt"
   ]
  },
  {
   "cell_type": "markdown",
   "metadata": {},
   "source": [
    "# 读取数据和给列命名"
   ]
  },
  {
   "cell_type": "code",
   "execution_count": null,
   "metadata": {},
   "outputs": [],
   "source": [
    "data_conseq = np.load(\"data_conseq.npy\",allow_pickle = True)\n",
    "data_conseq = pd.DataFrame(data_conseq)\n",
    "data_doing = np.load(\"data_doing.npy\",allow_pickle = True)\n",
    "data_doing = pd.DataFrame(data_doing)\n",
    "\n",
    "#读取列名表格，conseq列为战绩流水列名，doing为行为流水列名\n",
    "cn2 = pd.read_csv(\"col_name.csv\",header = 0)\n",
    "data_conseq.columns = cn2[\"conseq\"].dropna().values\n",
    "data_doing.columns = cn2[\"doing\"].values"
   ]
  },
  {
   "cell_type": "code",
   "execution_count": 13,
   "metadata": {},
   "outputs": [
    {
     "data": {
      "text/html": [
       "<div>\n",
       "<style scoped>\n",
       "    .dataframe tbody tr th:only-of-type {\n",
       "        vertical-align: middle;\n",
       "    }\n",
       "\n",
       "    .dataframe tbody tr th {\n",
       "        vertical-align: top;\n",
       "    }\n",
       "\n",
       "    .dataframe thead th {\n",
       "        text-align: right;\n",
       "    }\n",
       "</style>\n",
       "<table border=\"1\" class=\"dataframe\">\n",
       "  <thead>\n",
       "    <tr style=\"text-align: right;\">\n",
       "      <th></th>\n",
       "      <th>uid</th>\n",
       "      <th>worldid</th>\n",
       "      <th>game_id</th>\n",
       "      <th>game_mode</th>\n",
       "      <th>battle_time</th>\n",
       "      <th>champion_id</th>\n",
       "      <th>team</th>\n",
       "      <th>champions_killed</th>\n",
       "      <th>num_deaths</th>\n",
       "      <th>assists</th>\n",
       "      <th>killing_spress</th>\n",
       "      <th>game_score</th>\n",
       "      <th>flag</th>\n",
       "      <th>ext_flag</th>\n",
       "      <th>champion_used_exp</th>\n",
       "    </tr>\n",
       "  </thead>\n",
       "  <tbody>\n",
       "    <tr>\n",
       "      <td>0</td>\n",
       "      <td>53441893</td>\n",
       "      <td>75</td>\n",
       "      <td>1123320262</td>\n",
       "      <td>4</td>\n",
       "      <td>2019-02-26 18:16:19</td>\n",
       "      <td>53</td>\n",
       "      <td>100</td>\n",
       "      <td>4</td>\n",
       "      <td>1</td>\n",
       "      <td>5</td>\n",
       "      <td>2</td>\n",
       "      <td>1290</td>\n",
       "      <td>8</td>\n",
       "      <td>256</td>\n",
       "      <td>21965</td>\n",
       "    </tr>\n",
       "    <tr>\n",
       "      <td>1</td>\n",
       "      <td>53441893</td>\n",
       "      <td>75</td>\n",
       "      <td>1123339985</td>\n",
       "      <td>4</td>\n",
       "      <td>2019-02-26 20:49:07</td>\n",
       "      <td>59</td>\n",
       "      <td>200</td>\n",
       "      <td>8</td>\n",
       "      <td>5</td>\n",
       "      <td>22</td>\n",
       "      <td>3</td>\n",
       "      <td>1290</td>\n",
       "      <td>16</td>\n",
       "      <td>0</td>\n",
       "      <td>19212</td>\n",
       "    </tr>\n",
       "    <tr>\n",
       "      <td>2</td>\n",
       "      <td>53441893</td>\n",
       "      <td>75</td>\n",
       "      <td>1123594658</td>\n",
       "      <td>4</td>\n",
       "      <td>2019-02-27 18:37:56</td>\n",
       "      <td>86</td>\n",
       "      <td>200</td>\n",
       "      <td>4</td>\n",
       "      <td>2</td>\n",
       "      <td>4</td>\n",
       "      <td>1</td>\n",
       "      <td>1010</td>\n",
       "      <td>0</td>\n",
       "      <td>1048832</td>\n",
       "      <td>19632</td>\n",
       "    </tr>\n",
       "    <tr>\n",
       "      <td>3</td>\n",
       "      <td>53441893</td>\n",
       "      <td>75</td>\n",
       "      <td>1123613112</td>\n",
       "      <td>4</td>\n",
       "      <td>2019-02-27 18:10:09</td>\n",
       "      <td>17</td>\n",
       "      <td>200</td>\n",
       "      <td>8</td>\n",
       "      <td>0</td>\n",
       "      <td>1</td>\n",
       "      <td>1</td>\n",
       "      <td>1270</td>\n",
       "      <td>1</td>\n",
       "      <td>1982720</td>\n",
       "      <td>26778</td>\n",
       "    </tr>\n",
       "    <tr>\n",
       "      <td>4</td>\n",
       "      <td>53441893</td>\n",
       "      <td>75</td>\n",
       "      <td>1123665332</td>\n",
       "      <td>4</td>\n",
       "      <td>2019-02-27 21:12:45</td>\n",
       "      <td>64</td>\n",
       "      <td>200</td>\n",
       "      <td>2</td>\n",
       "      <td>6</td>\n",
       "      <td>7</td>\n",
       "      <td>0</td>\n",
       "      <td>670</td>\n",
       "      <td>24</td>\n",
       "      <td>0</td>\n",
       "      <td>20539</td>\n",
       "    </tr>\n",
       "  </tbody>\n",
       "</table>\n",
       "</div>"
      ],
      "text/plain": [
       "        uid worldid     game_id game_mode          battle_time champion_id  \\\n",
       "0  53441893      75  1123320262         4  2019-02-26 18:16:19          53   \n",
       "1  53441893      75  1123339985         4  2019-02-26 20:49:07          59   \n",
       "2  53441893      75  1123594658         4  2019-02-27 18:37:56          86   \n",
       "3  53441893      75  1123613112         4  2019-02-27 18:10:09          17   \n",
       "4  53441893      75  1123665332         4  2019-02-27 21:12:45          64   \n",
       "\n",
       "  team champions_killed num_deaths assists killing_spress game_score flag  \\\n",
       "0  100                4          1       5              2       1290    8   \n",
       "1  200                8          5      22              3       1290   16   \n",
       "2  200                4          2       4              1       1010    0   \n",
       "3  200                8          0       1              1       1270    1   \n",
       "4  200                2          6       7              0        670   24   \n",
       "\n",
       "  ext_flag champion_used_exp  \n",
       "0      256             21965  \n",
       "1        0             19212  \n",
       "2  1048832             19632  \n",
       "3  1982720             26778  \n",
       "4        0             20539  "
      ]
     },
     "execution_count": 13,
     "metadata": {},
     "output_type": "execute_result"
    }
   ],
   "source": [
    "data_conseq.head()"
   ]
  },
  {
   "cell_type": "code",
   "execution_count": 14,
   "metadata": {},
   "outputs": [
    {
     "data": {
      "text/html": [
       "<div>\n",
       "<style scoped>\n",
       "    .dataframe tbody tr th:only-of-type {\n",
       "        vertical-align: middle;\n",
       "    }\n",
       "\n",
       "    .dataframe tbody tr th {\n",
       "        vertical-align: top;\n",
       "    }\n",
       "\n",
       "    .dataframe thead th {\n",
       "        text-align: right;\n",
       "    }\n",
       "</style>\n",
       "<table border=\"1\" class=\"dataframe\">\n",
       "  <thead>\n",
       "    <tr style=\"text-align: right;\">\n",
       "      <th></th>\n",
       "      <th>uid</th>\n",
       "      <th>worldid</th>\n",
       "      <th>game_id</th>\n",
       "      <th>dtEvnetTime</th>\n",
       "      <th>dtGameStartTime</th>\n",
       "      <th>iMapID</th>\n",
       "      <th>iDuration</th>\n",
       "      <th>iBasegamemode</th>\n",
       "      <th>iSubgamemode</th>\n",
       "      <th>iExpChange</th>\n",
       "      <th>...</th>\n",
       "      <th>iTimeSpentDead</th>\n",
       "      <th>iTurretsDestroyed</th>\n",
       "      <th>iSpell1</th>\n",
       "      <th>iSpell2</th>\n",
       "      <th>Summoner_level</th>\n",
       "      <th>Champion_id</th>\n",
       "      <th>Predicted_win</th>\n",
       "      <th>Premade</th>\n",
       "      <th>Premade_size</th>\n",
       "      <th>Elo_change</th>\n",
       "    </tr>\n",
       "  </thead>\n",
       "  <tbody>\n",
       "    <tr>\n",
       "      <td>0</td>\n",
       "      <td>4007318390</td>\n",
       "      <td>74</td>\n",
       "      <td>541101244</td>\n",
       "      <td>2019-03-04 06:28:04</td>\n",
       "      <td>2019-03-04 06:05:32</td>\n",
       "      <td>11</td>\n",
       "      <td>1352</td>\n",
       "      <td>1</td>\n",
       "      <td>4</td>\n",
       "      <td>0</td>\n",
       "      <td>...</td>\n",
       "      <td>35</td>\n",
       "      <td>2</td>\n",
       "      <td>4</td>\n",
       "      <td>14</td>\n",
       "      <td>172</td>\n",
       "      <td>91</td>\n",
       "      <td>0.52301</td>\n",
       "      <td>false</td>\n",
       "      <td>1</td>\n",
       "      <td>12</td>\n",
       "    </tr>\n",
       "    <tr>\n",
       "      <td>1</td>\n",
       "      <td>2928536459</td>\n",
       "      <td>82</td>\n",
       "      <td>1499793258</td>\n",
       "      <td>2019-03-02 05:40:19</td>\n",
       "      <td>2019-03-02 05:05:02</td>\n",
       "      <td>11</td>\n",
       "      <td>2117</td>\n",
       "      <td>1</td>\n",
       "      <td>4</td>\n",
       "      <td>0</td>\n",
       "      <td>...</td>\n",
       "      <td>316</td>\n",
       "      <td>0</td>\n",
       "      <td>4</td>\n",
       "      <td>14</td>\n",
       "      <td>129</td>\n",
       "      <td>99</td>\n",
       "      <td>0.52301</td>\n",
       "      <td>false</td>\n",
       "      <td>2</td>\n",
       "      <td>-13</td>\n",
       "    </tr>\n",
       "    <tr>\n",
       "      <td>2</td>\n",
       "      <td>2945527479</td>\n",
       "      <td>84</td>\n",
       "      <td>1542251694</td>\n",
       "      <td>2019-03-06 12:31:01</td>\n",
       "      <td>2019-03-06 11:59:17</td>\n",
       "      <td>11</td>\n",
       "      <td>1904</td>\n",
       "      <td>1</td>\n",
       "      <td>4</td>\n",
       "      <td>0</td>\n",
       "      <td>...</td>\n",
       "      <td>178</td>\n",
       "      <td>0</td>\n",
       "      <td>4</td>\n",
       "      <td>7</td>\n",
       "      <td>218</td>\n",
       "      <td>40</td>\n",
       "      <td>0.528751</td>\n",
       "      <td>false</td>\n",
       "      <td>1</td>\n",
       "      <td>12</td>\n",
       "    </tr>\n",
       "    <tr>\n",
       "      <td>3</td>\n",
       "      <td>2953484894</td>\n",
       "      <td>90</td>\n",
       "      <td>1297110042</td>\n",
       "      <td>2019-03-02 16:40:50</td>\n",
       "      <td>2019-03-02 16:11:05</td>\n",
       "      <td>11</td>\n",
       "      <td>1785</td>\n",
       "      <td>1</td>\n",
       "      <td>4</td>\n",
       "      <td>0</td>\n",
       "      <td>...</td>\n",
       "      <td>236</td>\n",
       "      <td>1</td>\n",
       "      <td>4</td>\n",
       "      <td>7</td>\n",
       "      <td>33</td>\n",
       "      <td>67</td>\n",
       "      <td>0.475555</td>\n",
       "      <td>false</td>\n",
       "      <td>1</td>\n",
       "      <td>-12</td>\n",
       "    </tr>\n",
       "    <tr>\n",
       "      <td>4</td>\n",
       "      <td>2959141576</td>\n",
       "      <td>98</td>\n",
       "      <td>2706982848</td>\n",
       "      <td>2019-03-03 13:19:43</td>\n",
       "      <td>2019-03-03 12:52:03</td>\n",
       "      <td>11</td>\n",
       "      <td>1660</td>\n",
       "      <td>1</td>\n",
       "      <td>4</td>\n",
       "      <td>0</td>\n",
       "      <td>...</td>\n",
       "      <td>235</td>\n",
       "      <td>2</td>\n",
       "      <td>4</td>\n",
       "      <td>14</td>\n",
       "      <td>174</td>\n",
       "      <td>517</td>\n",
       "      <td>0.525881</td>\n",
       "      <td>false</td>\n",
       "      <td>1</td>\n",
       "      <td>12</td>\n",
       "    </tr>\n",
       "  </tbody>\n",
       "</table>\n",
       "<p>5 rows × 37 columns</p>\n",
       "</div>"
      ],
      "text/plain": [
       "          uid worldid     game_id          dtEvnetTime      dtGameStartTime  \\\n",
       "0  4007318390      74   541101244  2019-03-04 06:28:04  2019-03-04 06:05:32   \n",
       "1  2928536459      82  1499793258  2019-03-02 05:40:19  2019-03-02 05:05:02   \n",
       "2  2945527479      84  1542251694  2019-03-06 12:31:01  2019-03-06 11:59:17   \n",
       "3  2953484894      90  1297110042  2019-03-02 16:40:50  2019-03-02 16:11:05   \n",
       "4  2959141576      98  2706982848  2019-03-03 13:19:43  2019-03-03 12:52:03   \n",
       "\n",
       "  iMapID iDuration iBasegamemode iSubgamemode iExpChange  ... iTimeSpentDead  \\\n",
       "0     11      1352             1            4          0  ...             35   \n",
       "1     11      2117             1            4          0  ...            316   \n",
       "2     11      1904             1            4          0  ...            178   \n",
       "3     11      1785             1            4          0  ...            236   \n",
       "4     11      1660             1            4          0  ...            235   \n",
       "\n",
       "  iTurretsDestroyed iSpell1 iSpell2 Summoner_level Champion_id Predicted_win  \\\n",
       "0                 2       4      14            172          91       0.52301   \n",
       "1                 0       4      14            129          99       0.52301   \n",
       "2                 0       4       7            218          40      0.528751   \n",
       "3                 1       4       7             33          67      0.475555   \n",
       "4                 2       4      14            174         517      0.525881   \n",
       "\n",
       "  Premade Premade_size Elo_change  \n",
       "0   false            1         12  \n",
       "1   false            2        -13  \n",
       "2   false            1         12  \n",
       "3   false            1        -12  \n",
       "4   false            1         12  \n",
       "\n",
       "[5 rows x 37 columns]"
      ]
     },
     "execution_count": 14,
     "metadata": {},
     "output_type": "execute_result"
    }
   ],
   "source": [
    "data_doing.head()"
   ]
  },
  {
   "cell_type": "code",
   "execution_count": 15,
   "metadata": {},
   "outputs": [],
   "source": [
    "#为id列命名\n",
    "train_id = np.load(\"train_id.npy\",allow_pickle = True)\n",
    "train_id = pd.DataFrame(train_id)\n",
    "train_id.columns = ['uid',\"worldid\",\"label\"]\n",
    "\n",
    "test_id = np.load(\"test_id.npy\",allow_pickle = True)\n",
    "test_id = pd.DataFrame(test_id)\n",
    "test_id.columns = ['uid',\"worldid\"]"
   ]
  },
  {
   "cell_type": "code",
   "execution_count": 16,
   "metadata": {},
   "outputs": [
    {
     "data": {
      "text/html": [
       "<div>\n",
       "<style scoped>\n",
       "    .dataframe tbody tr th:only-of-type {\n",
       "        vertical-align: middle;\n",
       "    }\n",
       "\n",
       "    .dataframe tbody tr th {\n",
       "        vertical-align: top;\n",
       "    }\n",
       "\n",
       "    .dataframe thead th {\n",
       "        text-align: right;\n",
       "    }\n",
       "</style>\n",
       "<table border=\"1\" class=\"dataframe\">\n",
       "  <thead>\n",
       "    <tr style=\"text-align: right;\">\n",
       "      <th></th>\n",
       "      <th>uid</th>\n",
       "      <th>worldid</th>\n",
       "      <th>label</th>\n",
       "    </tr>\n",
       "  </thead>\n",
       "  <tbody>\n",
       "    <tr>\n",
       "      <td>0</td>\n",
       "      <td>4016310399</td>\n",
       "      <td>69</td>\n",
       "      <td>0</td>\n",
       "    </tr>\n",
       "    <tr>\n",
       "      <td>1</td>\n",
       "      <td>4016310949</td>\n",
       "      <td>69</td>\n",
       "      <td>1</td>\n",
       "    </tr>\n",
       "    <tr>\n",
       "      <td>2</td>\n",
       "      <td>4016311184</td>\n",
       "      <td>69</td>\n",
       "      <td>1</td>\n",
       "    </tr>\n",
       "    <tr>\n",
       "      <td>3</td>\n",
       "      <td>4016311766</td>\n",
       "      <td>69</td>\n",
       "      <td>1</td>\n",
       "    </tr>\n",
       "    <tr>\n",
       "      <td>4</td>\n",
       "      <td>4016311933</td>\n",
       "      <td>69</td>\n",
       "      <td>0</td>\n",
       "    </tr>\n",
       "  </tbody>\n",
       "</table>\n",
       "</div>"
      ],
      "text/plain": [
       "          uid  worldid  label\n",
       "0  4016310399       69      0\n",
       "1  4016310949       69      1\n",
       "2  4016311184       69      1\n",
       "3  4016311766       69      1\n",
       "4  4016311933       69      0"
      ]
     },
     "execution_count": 16,
     "metadata": {},
     "output_type": "execute_result"
    }
   ],
   "source": [
    "train_id.head()"
   ]
  },
  {
   "cell_type": "code",
   "execution_count": 17,
   "metadata": {},
   "outputs": [
    {
     "data": {
      "text/plain": [
       "(121684, 3)"
      ]
     },
     "execution_count": 17,
     "metadata": {},
     "output_type": "execute_result"
    }
   ],
   "source": [
    "train_id.shape"
   ]
  },
  {
   "cell_type": "code",
   "execution_count": 18,
   "metadata": {},
   "outputs": [
    {
     "data": {
      "text/html": [
       "<div>\n",
       "<style scoped>\n",
       "    .dataframe tbody tr th:only-of-type {\n",
       "        vertical-align: middle;\n",
       "    }\n",
       "\n",
       "    .dataframe tbody tr th {\n",
       "        vertical-align: top;\n",
       "    }\n",
       "\n",
       "    .dataframe thead th {\n",
       "        text-align: right;\n",
       "    }\n",
       "</style>\n",
       "<table border=\"1\" class=\"dataframe\">\n",
       "  <thead>\n",
       "    <tr style=\"text-align: right;\">\n",
       "      <th></th>\n",
       "      <th>uid</th>\n",
       "      <th>worldid</th>\n",
       "    </tr>\n",
       "  </thead>\n",
       "  <tbody>\n",
       "    <tr>\n",
       "      <td>0</td>\n",
       "      <td>4016310262</td>\n",
       "      <td>69</td>\n",
       "    </tr>\n",
       "    <tr>\n",
       "      <td>1</td>\n",
       "      <td>4016319171</td>\n",
       "      <td>69</td>\n",
       "    </tr>\n",
       "    <tr>\n",
       "      <td>2</td>\n",
       "      <td>4016319442</td>\n",
       "      <td>69</td>\n",
       "    </tr>\n",
       "    <tr>\n",
       "      <td>3</td>\n",
       "      <td>4016321122</td>\n",
       "      <td>69</td>\n",
       "    </tr>\n",
       "    <tr>\n",
       "      <td>4</td>\n",
       "      <td>4016322431</td>\n",
       "      <td>69</td>\n",
       "    </tr>\n",
       "  </tbody>\n",
       "</table>\n",
       "</div>"
      ],
      "text/plain": [
       "          uid  worldid\n",
       "0  4016310262       69\n",
       "1  4016319171       69\n",
       "2  4016319442       69\n",
       "3  4016321122       69\n",
       "4  4016322431       69"
      ]
     },
     "execution_count": 18,
     "metadata": {},
     "output_type": "execute_result"
    }
   ],
   "source": [
    "test_id.head()"
   ]
  },
  {
   "cell_type": "code",
   "execution_count": 19,
   "metadata": {},
   "outputs": [
    {
     "data": {
      "text/plain": [
       "(10000, 2)"
      ]
     },
     "execution_count": 19,
     "metadata": {},
     "output_type": "execute_result"
    }
   ],
   "source": [
    "test_id.shape"
   ]
  },
  {
   "cell_type": "code",
   "execution_count": 20,
   "metadata": {},
   "outputs": [],
   "source": [
    "#删除doing的一些无用列\n",
    "#判断为无用列的标准：所有样本的该值都相等，没有变化\n",
    "data_doing = data_doing.drop(columns = [\"iMapID\",\"iBasegamemode\",\"iExpChange\",\"iSubgamemode\",\"Premade\"],axis = 1)"
   ]
  },
  {
   "cell_type": "code",
   "execution_count": 21,
   "metadata": {},
   "outputs": [],
   "source": [
    "#删除conseq的一些无用列(所有样本的该值都相等)\n",
    "data_conseq = data_conseq.drop(columns = [\"game_mode\"],axis = 1)"
   ]
  },
  {
   "cell_type": "markdown",
   "metadata": {},
   "source": [
    "# 合并doing和conseq表格，根据三个key：uid，worldid，game_id"
   ]
  },
  {
   "cell_type": "code",
   "execution_count": 71,
   "metadata": {
    "scrolled": true
   },
   "outputs": [
    {
     "name": "stdout",
     "output_type": "stream",
     "text": [
      "\n",
      "Wall time: 10.9 s\n"
     ]
    }
   ],
   "source": [
    "%%time\n",
    "all_data = pd.merge(data_doing,data_conseq,how=\"inner\",on = ['uid',\"worldid\",\"game_id\"])\n",
    "print()"
   ]
  },
  {
   "cell_type": "code",
   "execution_count": 72,
   "metadata": {},
   "outputs": [
    {
     "data": {
      "text/html": [
       "<div>\n",
       "<style scoped>\n",
       "    .dataframe tbody tr th:only-of-type {\n",
       "        vertical-align: middle;\n",
       "    }\n",
       "\n",
       "    .dataframe tbody tr th {\n",
       "        vertical-align: top;\n",
       "    }\n",
       "\n",
       "    .dataframe thead th {\n",
       "        text-align: right;\n",
       "    }\n",
       "</style>\n",
       "<table border=\"1\" class=\"dataframe\">\n",
       "  <thead>\n",
       "    <tr style=\"text-align: right;\">\n",
       "      <th></th>\n",
       "      <th>uid</th>\n",
       "      <th>worldid</th>\n",
       "      <th>game_id</th>\n",
       "      <th>dtEvnetTime</th>\n",
       "      <th>dtGameStartTime</th>\n",
       "      <th>iDuration</th>\n",
       "      <th>iExpTotal</th>\n",
       "      <th>iMoneyTotal</th>\n",
       "      <th>iMoneyChange</th>\n",
       "      <th>iRankInGame</th>\n",
       "      <th>...</th>\n",
       "      <th>champion_id</th>\n",
       "      <th>team</th>\n",
       "      <th>champions_killed</th>\n",
       "      <th>num_deaths</th>\n",
       "      <th>assists</th>\n",
       "      <th>killing_spress</th>\n",
       "      <th>game_score</th>\n",
       "      <th>flag</th>\n",
       "      <th>ext_flag</th>\n",
       "      <th>champion_used_exp</th>\n",
       "    </tr>\n",
       "  </thead>\n",
       "  <tbody>\n",
       "    <tr>\n",
       "      <td>0</td>\n",
       "      <td>4007318390</td>\n",
       "      <td>74</td>\n",
       "      <td>541101244</td>\n",
       "      <td>2019-03-04 06:28:04</td>\n",
       "      <td>2019-03-04 06:05:32</td>\n",
       "      <td>1352</td>\n",
       "      <td>2314</td>\n",
       "      <td>0</td>\n",
       "      <td>58393</td>\n",
       "      <td>1150</td>\n",
       "      <td>...</td>\n",
       "      <td>91</td>\n",
       "      <td>200</td>\n",
       "      <td>10</td>\n",
       "      <td>3</td>\n",
       "      <td>5</td>\n",
       "      <td>2</td>\n",
       "      <td>850</td>\n",
       "      <td>0</td>\n",
       "      <td>1048832</td>\n",
       "      <td>18238</td>\n",
       "    </tr>\n",
       "    <tr>\n",
       "      <td>1</td>\n",
       "      <td>2928536459</td>\n",
       "      <td>82</td>\n",
       "      <td>1499793258</td>\n",
       "      <td>2019-03-02 05:40:19</td>\n",
       "      <td>2019-03-02 05:05:02</td>\n",
       "      <td>2117</td>\n",
       "      <td>423</td>\n",
       "      <td>0</td>\n",
       "      <td>11703</td>\n",
       "      <td>1138</td>\n",
       "      <td>...</td>\n",
       "      <td>99</td>\n",
       "      <td>200</td>\n",
       "      <td>6</td>\n",
       "      <td>12</td>\n",
       "      <td>14</td>\n",
       "      <td>1</td>\n",
       "      <td>770</td>\n",
       "      <td>16</td>\n",
       "      <td>512</td>\n",
       "      <td>9908</td>\n",
       "    </tr>\n",
       "    <tr>\n",
       "      <td>2</td>\n",
       "      <td>2945527479</td>\n",
       "      <td>84</td>\n",
       "      <td>1542251694</td>\n",
       "      <td>2019-03-06 12:31:01</td>\n",
       "      <td>2019-03-06 11:59:17</td>\n",
       "      <td>1904</td>\n",
       "      <td>1636</td>\n",
       "      <td>0</td>\n",
       "      <td>240813</td>\n",
       "      <td>1232</td>\n",
       "      <td>...</td>\n",
       "      <td>40</td>\n",
       "      <td>200</td>\n",
       "      <td>1</td>\n",
       "      <td>6</td>\n",
       "      <td>19</td>\n",
       "      <td>0</td>\n",
       "      <td>470</td>\n",
       "      <td>16</td>\n",
       "      <td>66560</td>\n",
       "      <td>15438</td>\n",
       "    </tr>\n",
       "    <tr>\n",
       "      <td>3</td>\n",
       "      <td>2953484894</td>\n",
       "      <td>90</td>\n",
       "      <td>1297110042</td>\n",
       "      <td>2019-03-02 16:40:50</td>\n",
       "      <td>2019-03-02 16:11:05</td>\n",
       "      <td>1785</td>\n",
       "      <td>2092</td>\n",
       "      <td>0</td>\n",
       "      <td>2107</td>\n",
       "      <td>1067</td>\n",
       "      <td>...</td>\n",
       "      <td>67</td>\n",
       "      <td>100</td>\n",
       "      <td>6</td>\n",
       "      <td>9</td>\n",
       "      <td>5</td>\n",
       "      <td>2</td>\n",
       "      <td>770</td>\n",
       "      <td>28</td>\n",
       "      <td>2097668</td>\n",
       "      <td>7804</td>\n",
       "    </tr>\n",
       "    <tr>\n",
       "      <td>4</td>\n",
       "      <td>2959141576</td>\n",
       "      <td>98</td>\n",
       "      <td>2706982848</td>\n",
       "      <td>2019-03-03 13:19:43</td>\n",
       "      <td>2019-03-03 12:52:03</td>\n",
       "      <td>1660</td>\n",
       "      <td>2149</td>\n",
       "      <td>0</td>\n",
       "      <td>21834</td>\n",
       "      <td>1519</td>\n",
       "      <td>...</td>\n",
       "      <td>517</td>\n",
       "      <td>200</td>\n",
       "      <td>3</td>\n",
       "      <td>8</td>\n",
       "      <td>9</td>\n",
       "      <td>1</td>\n",
       "      <td>800</td>\n",
       "      <td>16</td>\n",
       "      <td>0</td>\n",
       "      <td>15458</td>\n",
       "    </tr>\n",
       "  </tbody>\n",
       "</table>\n",
       "<p>5 rows × 43 columns</p>\n",
       "</div>"
      ],
      "text/plain": [
       "          uid worldid     game_id          dtEvnetTime      dtGameStartTime  \\\n",
       "0  4007318390      74   541101244  2019-03-04 06:28:04  2019-03-04 06:05:32   \n",
       "1  2928536459      82  1499793258  2019-03-02 05:40:19  2019-03-02 05:05:02   \n",
       "2  2945527479      84  1542251694  2019-03-06 12:31:01  2019-03-06 11:59:17   \n",
       "3  2953484894      90  1297110042  2019-03-02 16:40:50  2019-03-02 16:11:05   \n",
       "4  2959141576      98  2706982848  2019-03-03 13:19:43  2019-03-03 12:52:03   \n",
       "\n",
       "  iDuration iExpTotal iMoneyTotal iMoneyChange iRankInGame  ... champion_id  \\\n",
       "0      1352      2314           0        58393        1150  ...          91   \n",
       "1      2117       423           0        11703        1138  ...          99   \n",
       "2      1904      1636           0       240813        1232  ...          40   \n",
       "3      1785      2092           0         2107        1067  ...          67   \n",
       "4      1660      2149           0        21834        1519  ...         517   \n",
       "\n",
       "  team champions_killed num_deaths assists killing_spress game_score flag  \\\n",
       "0  200               10          3       5              2        850    0   \n",
       "1  200                6         12      14              1        770   16   \n",
       "2  200                1          6      19              0        470   16   \n",
       "3  100                6          9       5              2        770   28   \n",
       "4  200                3          8       9              1        800   16   \n",
       "\n",
       "  ext_flag champion_used_exp  \n",
       "0  1048832             18238  \n",
       "1      512              9908  \n",
       "2    66560             15438  \n",
       "3  2097668              7804  \n",
       "4        0             15458  \n",
       "\n",
       "[5 rows x 43 columns]"
      ]
     },
     "execution_count": 72,
     "metadata": {},
     "output_type": "execute_result"
    }
   ],
   "source": [
    "all_data.head()"
   ]
  },
  {
   "cell_type": "markdown",
   "metadata": {},
   "source": [
    "# 合并train_id和all_data"
   ]
  },
  {
   "cell_type": "code",
   "execution_count": 78,
   "metadata": {},
   "outputs": [],
   "source": [
    "#合并train_id\n",
    "da_withtr = pd.merge(all_data,train_id,how = \"inner\",on = [\"uid\",\"worldid\"])"
   ]
  },
  {
   "cell_type": "code",
   "execution_count": 79,
   "metadata": {},
   "outputs": [
    {
     "data": {
      "text/plain": [
       "(121684, 3)"
      ]
     },
     "execution_count": 79,
     "metadata": {},
     "output_type": "execute_result"
    }
   ],
   "source": [
    "train_id.shape"
   ]
  },
  {
   "cell_type": "code",
   "execution_count": 80,
   "metadata": {},
   "outputs": [
    {
     "data": {
      "text/plain": [
       "(337397, 44)"
      ]
     },
     "execution_count": 80,
     "metadata": {},
     "output_type": "execute_result"
    }
   ],
   "source": [
    "#da_withtr的行数远远多于train_id的行数，所以可以很明显看出，一个id有多场比赛\n",
    "da_withtr.shape"
   ]
  },
  {
   "cell_type": "code",
   "execution_count": null,
   "metadata": {},
   "outputs": [],
   "source": [
    "#指定列，该列有na的就删了对应行\n",
    "da_withtr = da_withtr.dropna(subset = [\"dtGameStartTime\"])"
   ]
  },
  {
   "cell_type": "code",
   "execution_count": 83,
   "metadata": {},
   "outputs": [
    {
     "data": {
      "text/plain": [
       "(337397, 44)"
      ]
     },
     "execution_count": 83,
     "metadata": {},
     "output_type": "execute_result"
    }
   ],
   "source": [
    "da_withtr.shape #此时的样本量已经变得和data_doing一样"
   ]
  },
  {
   "cell_type": "markdown",
   "metadata": {},
   "source": [
    "# 处datetime特征列"
   ]
  },
  {
   "cell_type": "code",
   "execution_count": 88,
   "metadata": {},
   "outputs": [],
   "source": [
    "da_withtr[\"dtEvnetTime\"] = pd.to_datetime(da_withtr[\"dtEvnetTime\"],format = \"%Y-%m-%d %H:%M:%S\")\n",
    "da_withtr[\"dtGameStartTime\"] = pd.to_datetime(da_withtr[\"dtGameStartTime\"],format = \"%Y-%m-%d %H:%M:%S\")\n",
    "#battle_time指的是对局开始时间，比dtGameStartTime一般略早一点\n",
    "da_withtr[\"battle_time\"] = pd.to_datetime(da_withtr[\"battle_time\"],format = \"%Y-%m-%d %H:%M:%S\")"
   ]
  },
  {
   "cell_type": "code",
   "execution_count": 99,
   "metadata": {},
   "outputs": [
    {
     "data": {
      "text/plain": [
       "9        2019-03-07 14:40:05\n",
       "11       2019-03-07 04:14:44\n",
       "13       2019-03-07 09:42:16\n",
       "18       2019-03-07 11:25:30\n",
       "30       2019-03-07 12:11:53\n",
       "                 ...        \n",
       "337383   2019-03-07 00:11:14\n",
       "337387   2019-03-07 13:56:05\n",
       "337388   2019-03-07 20:59:58\n",
       "337391   2019-03-07 15:46:10\n",
       "337396   2019-03-07 21:36:10\n",
       "Name: dtGameStartTime, Length: 61680, dtype: datetime64[ns]"
      ]
     },
     "execution_count": 99,
     "metadata": {},
     "output_type": "execute_result"
    }
   ],
   "source": [
    "da_withtr.loc[(da_withtr[\"dtGameStartTime\"].dt.month==3) & (da_withtr[\"dtGameStartTime\"].dt.day>=7)][\"dtGameStartTime\"]\n",
    "#最远的游戏时间记录就是在3月7日"
   ]
  },
  {
   "cell_type": "markdown",
   "metadata": {},
   "source": [
    "# 提取特征"
   ]
  },
  {
   "cell_type": "code",
   "execution_count": null,
   "metadata": {},
   "outputs": [],
   "source": [
    "game_data = da_withtr.copy()"
   ]
  },
  {
   "cell_type": "code",
   "execution_count": 4,
   "metadata": {},
   "outputs": [],
   "source": [
    "#champion_id和Champion_id重复，只保留一个即可\n",
    "game_data = game_data.drop(columns = [\"Champion_id\"],axis = 1)[:] \n",
    "\n",
    "#iMoney_Total全是0，删除\n",
    "game_data = game_data.drop(columns = [\"iMoneyTotal\"],axis = 1)[:]"
   ]
  },
  {
   "cell_type": "code",
   "execution_count": 5,
   "metadata": {
    "scrolled": true
   },
   "outputs": [
    {
     "name": "stdout",
     "output_type": "stream",
     "text": [
      "<class 'pandas.core.frame.DataFrame'>\n",
      "Int64Index: 337397 entries, 0 to 337396\n",
      "Data columns (total 42 columns):\n",
      "uid                       337397 non-null int64\n",
      "worldid                   337397 non-null int64\n",
      "game_id                   337397 non-null int64\n",
      "dtEvnetTime               337397 non-null datetime64[ns]\n",
      "dtGameStartTime           337397 non-null datetime64[ns]\n",
      "iDuration                 337397 non-null int64\n",
      "iExpTotal                 337397 non-null int64\n",
      "iMoneyChange              337397 non-null int64\n",
      "iRankInGame               337397 non-null int64\n",
      "iLeaver                   337397 non-null int64\n",
      "iDamgeDealt               337397 non-null int64\n",
      "iDamageTaken              337397 non-null int64\n",
      "iGoldEarned               337397 non-null int64\n",
      "iHealingDone              337397 non-null int64\n",
      "iLargestKillingSpree      337397 non-null int64\n",
      "iLargestMultiKill         337397 non-null int64\n",
      "iMagicDamageDealt         337397 non-null int64\n",
      "iMagicDamageTaken         337397 non-null int64\n",
      "iMinionsKilled            337397 non-null int64\n",
      "iNeutralMonsterKills      337397 non-null int64\n",
      "iPhysical Damage Dealt    337397 non-null int64\n",
      "iPhysicalDamageTaken      337397 non-null int64\n",
      "iTimeSpentDead            337397 non-null int64\n",
      "iTurretsDestroyed         337397 non-null int64\n",
      "iSpell1                   337397 non-null int64\n",
      "iSpell2                   337397 non-null int64\n",
      "Summoner_level            337397 non-null int64\n",
      "Predicted_win             337397 non-null float64\n",
      "Premade_size              337397 non-null int64\n",
      "Elo_change                337397 non-null int64\n",
      "battle_time               337397 non-null datetime64[ns]\n",
      "champion_id               337397 non-null int64\n",
      "team                      337397 non-null int64\n",
      "champions_killed          337397 non-null int64\n",
      "num_deaths                337397 non-null int64\n",
      "assists                   337397 non-null int64\n",
      "killing_spress            337397 non-null int64\n",
      "game_score                337397 non-null int64\n",
      "flag                      337397 non-null int64\n",
      "ext_flag                  337397 non-null int64\n",
      "champion_used_exp         337397 non-null int64\n",
      "label                     337397 non-null int64\n",
      "dtypes: datetime64[ns](3), float64(1), int64(38)\n",
      "memory usage: 110.7 MB\n"
     ]
    }
   ],
   "source": [
    "game_data.info()"
   ]
  },
  {
   "cell_type": "code",
   "execution_count": 66,
   "metadata": {},
   "outputs": [
    {
     "data": {
      "text/plain": [
       "0         200\n",
       "1         200\n",
       "2         200\n",
       "3         100\n",
       "4         200\n",
       "         ... \n",
       "337392    200\n",
       "337393    200\n",
       "337394    200\n",
       "337395    100\n",
       "337396    200\n",
       "Name: team, Length: 337397, dtype: int64"
      ]
     },
     "execution_count": 66,
     "metadata": {},
     "output_type": "execute_result"
    }
   ],
   "source": [
    "#team特征比较复杂，同个数值代表同个team，需要是同一场比赛\n",
    "game_data[\"team\"]"
   ]
  },
  {
   "cell_type": "code",
   "execution_count": 6,
   "metadata": {},
   "outputs": [],
   "source": [
    "#id特征\n",
    "id_att = [\"uid\",\"worldid\",\"game_id\"]\n",
    "\n",
    "#数值型特征\n",
    "num_att = [\"champions_killed\",\"num_deaths\",\"assists\",\"game_score\",\"champion_used_exp\",\n",
    "          \"iDuration\",\"iExpTotal\",\"iMoneyChange\",\"iRankInGame\",\n",
    "          \"iDamgeDealt\",\"iDamageTaken\",\"iGoldEarned\",\"iHealingDone\",\"iLargestKillingSpree\",\n",
    "          \"iMagicDamageDealt\",\"iMagicDamageTaken\",\"iMinionsKilled\",\"iNeutralMonsterKills\",\"iPhysical Damage Dealt\",\n",
    "          \"iPhysicalDamageTaken\",\"iTimeSpentDead\"]\n",
    "\n",
    "#分类特征\n",
    "cat_att = [\"champion_id\",\"team\",\"iLeaver\",\"iSpell1\",\"iSpell2\",\"killing_spress\",\"iLargestMultiKill\",\"iTurretsDestroyed\"]\n",
    "\n",
    "#难以分析的特征，需要由16进制转回2进制？但是又不能理解类型太多和题目提供的不符合，可能需要解码（被加密了）\n",
    "complex_att_0x = [\"flag\",\"ext_flag\"]\n",
    "\n",
    "#日期型特征\n",
    "date_att = list(game_data.select_dtypes(include = [\"datetime64[ns]\"]).columns)\n",
    "\n",
    "#目标特征，0表示非代练，1表示代练\n",
    "y_att = [\"label\"]"
   ]
  },
  {
   "cell_type": "markdown",
   "metadata": {},
   "source": [
    "# 可视化观察"
   ]
  },
  {
   "cell_type": "code",
   "execution_count": 79,
   "metadata": {},
   "outputs": [
    {
     "data": {
      "text/plain": [
       "array([[<matplotlib.axes._subplots.AxesSubplot object at 0x000001B685270388>,\n",
       "        <matplotlib.axes._subplots.AxesSubplot object at 0x000001B685015288>],\n",
       "       [<matplotlib.axes._subplots.AxesSubplot object at 0x000001B68502C948>,\n",
       "        <matplotlib.axes._subplots.AxesSubplot object at 0x000001B685063388>]],\n",
       "      dtype=object)"
      ]
     },
     "execution_count": 79,
     "metadata": {},
     "output_type": "execute_result"
    },
    {
     "data": {
      "image/png": "[encoded data removed]",
      "text/plain": [
       "<Figure size 432x288 with 4 Axes>"
      ]
     },
     "metadata": {
      "needs_background": "light"
     },
     "output_type": "display_data"
    }
   ],
   "source": [
    "game_data[num_att[0:4]].hist(bins = 50)"
   ]
  },
  {
   "cell_type": "code",
   "execution_count": 80,
   "metadata": {},
   "outputs": [
    {
     "data": {
      "text/plain": [
       "array([[<matplotlib.axes._subplots.AxesSubplot object at 0x000001B6851BE688>,\n",
       "        <matplotlib.axes._subplots.AxesSubplot object at 0x000001B685419208>],\n",
       "       [<matplotlib.axes._subplots.AxesSubplot object at 0x000001B68543A908>,\n",
       "        <matplotlib.axes._subplots.AxesSubplot object at 0x000001B685472348>]],\n",
       "      dtype=object)"
      ]
     },
     "execution_count": 80,
     "metadata": {},
     "output_type": "execute_result"
    },
    {
     "data": {
      "image/png": "[encoded data removed]",
      "text/plain": [
       "<Figure size 432x288 with 4 Axes>"
      ]
     },
     "metadata": {
      "needs_background": "light"
     },
     "output_type": "display_data"
    }
   ],
   "source": [
    "game_data[num_att[4:8]].hist(bins = 50)"
   ]
  },
  {
   "cell_type": "code",
   "execution_count": 81,
   "metadata": {},
   "outputs": [
    {
     "data": {
      "text/plain": [
       "array([[<matplotlib.axes._subplots.AxesSubplot object at 0x000001B685739C88>,\n",
       "        <matplotlib.axes._subplots.AxesSubplot object at 0x000001B69E4174C8>],\n",
       "       [<matplotlib.axes._subplots.AxesSubplot object at 0x000001B69E433B88>,\n",
       "        <matplotlib.axes._subplots.AxesSubplot object at 0x000001B69E46D5C8>]],\n",
       "      dtype=object)"
      ]
     },
     "execution_count": 81,
     "metadata": {},
     "output_type": "execute_result"
    },
    {
     "data": {
      "image/png": "[encoded data removed]",
      "text/plain": [
       "<Figure size 432x288 with 4 Axes>"
      ]
     },
     "metadata": {
      "needs_background": "light"
     },
     "output_type": "display_data"
    }
   ],
   "source": [
    "game_data[num_att[8:12]].hist(bins = 50)"
   ]
  },
  {
   "cell_type": "code",
   "execution_count": 82,
   "metadata": {},
   "outputs": [
    {
     "data": {
      "text/plain": [
       "array([[<matplotlib.axes._subplots.AxesSubplot object at 0x000001B69E66F388>,\n",
       "        <matplotlib.axes._subplots.AxesSubplot object at 0x000001B69E778E88>],\n",
       "       [<matplotlib.axes._subplots.AxesSubplot object at 0x000001B69E795F08>,\n",
       "        <matplotlib.axes._subplots.AxesSubplot object at 0x000001B69E7CF948>]],\n",
       "      dtype=object)"
      ]
     },
     "execution_count": 82,
     "metadata": {},
     "output_type": "execute_result"
    },
    {
     "data": {
      "image/png": "[encoded data removed]",
      "text/plain": [
       "<Figure size 432x288 with 4 Axes>"
      ]
     },
     "metadata": {
      "needs_background": "light"
     },
     "output_type": "display_data"
    }
   ],
   "source": [
    "game_data[num_att[12:16]].hist(bins = 50)"
   ]
  },
  {
   "cell_type": "code",
   "execution_count": 83,
   "metadata": {},
   "outputs": [
    {
     "data": {
      "text/plain": [
       "array([[<matplotlib.axes._subplots.AxesSubplot object at 0x000001B69E877588>,\n",
       "        <matplotlib.axes._subplots.AxesSubplot object at 0x000001B69EB17C88>],\n",
       "       [<matplotlib.axes._subplots.AxesSubplot object at 0x000001B69EB3A448>,\n",
       "        <matplotlib.axes._subplots.AxesSubplot object at 0x000001B69EB6FE48>],\n",
       "       [<matplotlib.axes._subplots.AxesSubplot object at 0x000001B69EBA7848>,\n",
       "        <matplotlib.axes._subplots.AxesSubplot object at 0x000001B69EBE06C8>]],\n",
       "      dtype=object)"
      ]
     },
     "execution_count": 83,
     "metadata": {},
     "output_type": "execute_result"
    },
    {
     "data": {
      "image/png": "[encoded data removed]",
      "text/plain": [
       "<Figure size 432x288 with 6 Axes>"
      ]
     },
     "metadata": {
      "needs_background": "light"
     },
     "output_type": "display_data"
    }
   ],
   "source": [
    "game_data[num_att[16:]].hist(bins = 50)"
   ]
  },
  {
   "cell_type": "markdown",
   "metadata": {},
   "source": [
    "# 观察代练账户和非代练账号的数据"
   ]
  },
  {
   "cell_type": "code",
   "execution_count": null,
   "metadata": {},
   "outputs": [],
   "source": [
    "#什么是代练账号：\n",
    "#高水平玩家通过（代练）平台接单，使用被代练玩家的账号打段位赛升级，这个账号就是代练账号"
   ]
  },
  {
   "cell_type": "code",
   "execution_count": 16,
   "metadata": {},
   "outputs": [
    {
     "data": {
      "text/plain": [
       "<matplotlib.axes._subplots.AxesSubplot at 0x1c2042c7708>"
      ]
     },
     "execution_count": 16,
     "metadata": {},
     "output_type": "execute_result"
    },
    {
     "data": {
      "image/png": "[encoded data removed]",
      "text/plain": [
       "<Figure size 432x288 with 1 Axes>"
      ]
     },
     "metadata": {
      "needs_background": "light"
     },
     "output_type": "display_data"
    }
   ],
   "source": [
    "#大部分人的比赛次数只有1~3场，超过这个数字的就很少了\n",
    "game_data[\"game_score\"].groupby([game_data[\"uid\"],game_data[\"worldid\"]]).count().hist(bins=30)"
   ]
  },
  {
   "cell_type": "code",
   "execution_count": 42,
   "metadata": {},
   "outputs": [
    {
     "data": {
      "text/plain": [
       "1     24645\n",
       "2     17723\n",
       "3     12862\n",
       "4      9469\n",
       "5      6886\n",
       "6      5032\n",
       "7      3720\n",
       "8      2732\n",
       "9      2034\n",
       "10     1570\n",
       "11     1083\n",
       "12      743\n",
       "13      594\n",
       "14      406\n",
       "15      335\n",
       "16      220\n",
       "17      172\n",
       "18      124\n",
       "19      103\n",
       "20       57\n",
       "21       47\n",
       "22       26\n",
       "23       20\n",
       "24       17\n",
       "27        7\n",
       "25        6\n",
       "28        6\n",
       "26        4\n",
       "29        4\n",
       "34        1\n",
       "30        1\n",
       "32        1\n",
       "37        1\n",
       "Name: game_score, dtype: int64"
      ]
     },
     "execution_count": 42,
     "metadata": {},
     "output_type": "execute_result"
    }
   ],
   "source": [
    "#可以看到:大部分人的比赛次数只有1~3场，超过这个数字的就很少了\n",
    "game_data[\"game_score\"].groupby([game_data[\"uid\"],game_data[\"worldid\"]]).count().value_counts()"
   ]
  },
  {
   "cell_type": "code",
   "execution_count": 7,
   "metadata": {},
   "outputs": [],
   "source": [
    "#找出打了k场游戏那些人的uid和game_id\n",
    "def check_game_times(k = 24):\n",
    "    x = []\n",
    "    for i,val in enumerate((game_data[\"game_score\"].groupby([game_data[\"uid\"],game_data[\"worldid\"]]).count()==k).values):\n",
    "        if val == True:\n",
    "            x.append(i)\n",
    "    return x"
   ]
  },
  {
   "cell_type": "code",
   "execution_count": 8,
   "metadata": {},
   "outputs": [],
   "source": [
    "#随便看看，比如说看看打了24场排位的那17人是什么情况\n",
    "t = check_game_times(k = 24)"
   ]
  },
  {
   "cell_type": "code",
   "execution_count": 8,
   "metadata": {},
   "outputs": [],
   "source": [
    "df_24 = pd.DataFrame()\n",
    "indexes = game_data[\"game_score\"].groupby([game_data[\"uid\"],game_data[\"worldid\"]]).count()[t].index\n",
    "for index in indexes:\n",
    "    df_24 = df_24.append(game_data[(game_data[\"uid\"] == index[0])&(game_data[\"worldid\"]==index[1])][id_att+cat_att+y_att])"
   ]
  },
  {
   "cell_type": "code",
   "execution_count": 10,
   "metadata": {},
   "outputs": [
    {
     "data": {
      "text/html": [
       "<div>\n",
       "<style scoped>\n",
       "    .dataframe tbody tr th:only-of-type {\n",
       "        vertical-align: middle;\n",
       "    }\n",
       "\n",
       "    .dataframe tbody tr th {\n",
       "        vertical-align: top;\n",
       "    }\n",
       "\n",
       "    .dataframe thead th {\n",
       "        text-align: right;\n",
       "    }\n",
       "</style>\n",
       "<table border=\"1\" class=\"dataframe\">\n",
       "  <thead>\n",
       "    <tr style=\"text-align: right;\">\n",
       "      <th></th>\n",
       "      <th>uid</th>\n",
       "      <th>worldid</th>\n",
       "      <th>game_id</th>\n",
       "      <th>champion_id</th>\n",
       "      <th>team</th>\n",
       "      <th>iLeaver</th>\n",
       "      <th>iSpell1</th>\n",
       "      <th>iSpell2</th>\n",
       "      <th>killing_spress</th>\n",
       "      <th>iLargestMultiKill</th>\n",
       "      <th>iTurretsDestroyed</th>\n",
       "      <th>label</th>\n",
       "    </tr>\n",
       "  </thead>\n",
       "  <tbody>\n",
       "    <tr>\n",
       "      <td>53131</td>\n",
       "      <td>2927731496</td>\n",
       "      <td>86</td>\n",
       "      <td>3750405051</td>\n",
       "      <td>157</td>\n",
       "      <td>200</td>\n",
       "      <td>0</td>\n",
       "      <td>4</td>\n",
       "      <td>14</td>\n",
       "      <td>4</td>\n",
       "      <td>2</td>\n",
       "      <td>0</td>\n",
       "      <td>0</td>\n",
       "    </tr>\n",
       "    <tr>\n",
       "      <td>53132</td>\n",
       "      <td>2927731496</td>\n",
       "      <td>86</td>\n",
       "      <td>3749185060</td>\n",
       "      <td>157</td>\n",
       "      <td>200</td>\n",
       "      <td>0</td>\n",
       "      <td>4</td>\n",
       "      <td>14</td>\n",
       "      <td>3</td>\n",
       "      <td>1</td>\n",
       "      <td>0</td>\n",
       "      <td>0</td>\n",
       "    </tr>\n",
       "    <tr>\n",
       "      <td>53133</td>\n",
       "      <td>2927731496</td>\n",
       "      <td>86</td>\n",
       "      <td>3767274498</td>\n",
       "      <td>64</td>\n",
       "      <td>200</td>\n",
       "      <td>0</td>\n",
       "      <td>4</td>\n",
       "      <td>11</td>\n",
       "      <td>1</td>\n",
       "      <td>1</td>\n",
       "      <td>1</td>\n",
       "      <td>0</td>\n",
       "    </tr>\n",
       "    <tr>\n",
       "      <td>53134</td>\n",
       "      <td>2927731496</td>\n",
       "      <td>86</td>\n",
       "      <td>3748925287</td>\n",
       "      <td>64</td>\n",
       "      <td>100</td>\n",
       "      <td>0</td>\n",
       "      <td>4</td>\n",
       "      <td>11</td>\n",
       "      <td>1</td>\n",
       "      <td>1</td>\n",
       "      <td>0</td>\n",
       "      <td>0</td>\n",
       "    </tr>\n",
       "    <tr>\n",
       "      <td>53135</td>\n",
       "      <td>2927731496</td>\n",
       "      <td>86</td>\n",
       "      <td>3752564752</td>\n",
       "      <td>59</td>\n",
       "      <td>200</td>\n",
       "      <td>0</td>\n",
       "      <td>4</td>\n",
       "      <td>11</td>\n",
       "      <td>3</td>\n",
       "      <td>2</td>\n",
       "      <td>1</td>\n",
       "      <td>0</td>\n",
       "    </tr>\n",
       "  </tbody>\n",
       "</table>\n",
       "</div>"
      ],
      "text/plain": [
       "              uid  worldid     game_id  champion_id  team  iLeaver  iSpell1  \\\n",
       "53131  2927731496       86  3750405051          157   200        0        4   \n",
       "53132  2927731496       86  3749185060          157   200        0        4   \n",
       "53133  2927731496       86  3767274498           64   200        0        4   \n",
       "53134  2927731496       86  3748925287           64   100        0        4   \n",
       "53135  2927731496       86  3752564752           59   200        0        4   \n",
       "\n",
       "       iSpell2  killing_spress  iLargestMultiKill  iTurretsDestroyed  label  \n",
       "53131       14               4                  2                  0      0  \n",
       "53132       14               3                  1                  0      0  \n",
       "53133       11               1                  1                  1      0  \n",
       "53134       11               1                  1                  0      0  \n",
       "53135       11               3                  2                  1      0  "
      ]
     },
     "execution_count": 10,
     "metadata": {},
     "output_type": "execute_result"
    }
   ],
   "source": [
    "df_24.head()"
   ]
  },
  {
   "cell_type": "code",
   "execution_count": 69,
   "metadata": {},
   "outputs": [
    {
     "data": {
      "text/plain": [
       "0    336\n",
       "Name: iLeaver, dtype: int64"
      ]
     },
     "execution_count": 69,
     "metadata": {},
     "output_type": "execute_result"
    }
   ],
   "source": [
    "df_24[df_24[\"label\"] == 0][\"iLeaver\"].value_counts()"
   ]
  },
  {
   "cell_type": "code",
   "execution_count": 72,
   "metadata": {},
   "outputs": [
    {
     "data": {
      "text/plain": [
       "0    72\n",
       "Name: iLeaver, dtype: int64"
      ]
     },
     "execution_count": 72,
     "metadata": {},
     "output_type": "execute_result"
    }
   ],
   "source": [
    "df_24[df_24[\"label\"] == 1][\"iLeaver\"].value_counts()"
   ]
  },
  {
   "cell_type": "markdown",
   "metadata": {},
   "source": [
    "# 将label为1的聚集到一起，label为0的聚集到一起，分别看看他们的不同"
   ]
  },
  {
   "cell_type": "markdown",
   "metadata": {},
   "source": [
    "思路：看它们的直方图是否相同，差距是否很大，如果差距很大说明这个特征可能有一定作用\n",
    "\n",
    "注：这里只给出了iLargestMultiKill的部分统计量提取作为例子，其余均省略，直接跳到最终提取结果"
   ]
  },
  {
   "cell_type": "markdown",
   "metadata": {},
   "source": [
    "***先看分类特征***"
   ]
  },
  {
   "cell_type": "code",
   "execution_count": 77,
   "metadata": {},
   "outputs": [
    {
     "data": {
      "text/plain": [
       "<matplotlib.axes._subplots.AxesSubplot at 0x258877d8348>"
      ]
     },
     "execution_count": 77,
     "metadata": {},
     "output_type": "execute_result"
    },
    {
     "data": {
      "image/png": "[encoded data removed]",
      "text/plain": [
       "<Figure size 432x288 with 1 Axes>"
      ]
     },
     "metadata": {
      "needs_background": "light"
     },
     "output_type": "display_data"
    }
   ],
   "source": [
    "game_data[game_data[\"label\"]==1][\"iLargestMultiKill\"].hist(bins = 5)"
   ]
  },
  {
   "cell_type": "code",
   "execution_count": 78,
   "metadata": {},
   "outputs": [
    {
     "data": {
      "text/plain": [
       "<matplotlib.axes._subplots.AxesSubplot at 0x25887844188>"
      ]
     },
     "execution_count": 78,
     "metadata": {},
     "output_type": "execute_result"
    },
    {
     "data": {
      "image/png": "[encoded data removed]",
      "text/plain": [
       "<Figure size 432x288 with 1 Axes>"
      ]
     },
     "metadata": {
      "needs_background": "light"
     },
     "output_type": "display_data"
    }
   ],
   "source": [
    "game_data[game_data[\"label\"]==0][\"iLargestMultiKill\"].hist(bins = 5)"
   ]
  },
  {
   "cell_type": "code",
   "execution_count": 19,
   "metadata": {},
   "outputs": [
    {
     "data": {
      "text/plain": [
       "0    0.043362\n",
       "1    0.581256\n",
       "2    0.301341\n",
       "3    0.061854\n",
       "4    0.009888\n",
       "5    0.002295\n",
       "6    0.000004\n",
       "Name: iLargestMultiKill, dtype: float64"
      ]
     },
     "execution_count": 19,
     "metadata": {},
     "output_type": "execute_result"
    }
   ],
   "source": [
    "sum_label_0 = game_data[game_data[\"label\"]==0].shape[0]\n",
    "game_data[game_data[\"label\"]==0][\"iLargestMultiKill\"].value_counts().sort_index()/sum_label_0"
   ]
  },
  {
   "cell_type": "code",
   "execution_count": 18,
   "metadata": {},
   "outputs": [
    {
     "data": {
      "text/plain": [
       "0    0.040419\n",
       "1    0.502615\n",
       "2    0.346458\n",
       "3    0.087854\n",
       "4    0.017784\n",
       "5    0.004870\n",
       "Name: iLargestMultiKill, dtype: float64"
      ]
     },
     "execution_count": 18,
     "metadata": {},
     "output_type": "execute_result"
    }
   ],
   "source": [
    "sum_label_1 = game_data[game_data[\"label\"]==1].shape[0]\n",
    "game_data[game_data[\"label\"]==1][\"iLargestMultiKill\"].value_counts().sort_index()/sum_label_1"
   ]
  },
  {
   "cell_type": "code",
   "execution_count": 71,
   "metadata": {},
   "outputs": [
    {
     "data": {
      "text/plain": [
       "<matplotlib.axes._subplots.AxesSubplot at 0x26b0a2f30c8>"
      ]
     },
     "execution_count": 71,
     "metadata": {},
     "output_type": "execute_result"
    },
    {
     "data": {
      "image/png": "[encoded data removed]",
      "text/plain": [
       "<Figure size 432x288 with 1 Axes>"
      ]
     },
     "metadata": {
      "needs_background": "light"
     },
     "output_type": "display_data"
    }
   ],
   "source": [
    "game_data[game_data[\"label\"]==0][id_att+[\"iLargestMultiKill\"]].groupby([game_data[\"uid\"],game_data[\"worldid\"]]).max()\\\n",
    "[\"iLargestMultiKill\"].hist(bins = 10)"
   ]
  },
  {
   "cell_type": "code",
   "execution_count": 72,
   "metadata": {},
   "outputs": [
    {
     "data": {
      "text/plain": [
       "<matplotlib.axes._subplots.AxesSubplot at 0x26b0a350288>"
      ]
     },
     "execution_count": 72,
     "metadata": {},
     "output_type": "execute_result"
    },
    {
     "data": {
      "image/png": "[encoded data removed]",
      "text/plain": [
       "<Figure size 432x288 with 1 Axes>"
      ]
     },
     "metadata": {
      "needs_background": "light"
     },
     "output_type": "display_data"
    }
   ],
   "source": [
    "game_data[game_data[\"label\"]==1][id_att+[\"iLargestMultiKill\"]].groupby([game_data[\"uid\"],game_data[\"worldid\"]]).max()\\\n",
    "[\"iLargestMultiKill\"].hist(bins = 10)"
   ]
  },
  {
   "cell_type": "markdown",
   "metadata": {},
   "source": [
    "值的一看的类别特征只有iLargestMultiKill特征,其他类别特征的直方图都类似\n",
    "\n",
    "准备提取的特征：\n",
    "\n",
    "1.最大连杀次数的最大值 2.某选手3次或者4次及以上最大连杀次数占总比赛数目的比例；"
   ]
  },
  {
   "cell_type": "markdown",
   "metadata": {},
   "source": [
    "数值型特征"
   ]
  },
  {
   "cell_type": "code",
   "execution_count": 11,
   "metadata": {},
   "outputs": [
    {
     "data": {
      "text/plain": [
       "['iTimeSpentDead']"
      ]
     },
     "execution_count": 11,
     "metadata": {},
     "output_type": "execute_result"
    }
   ],
   "source": [
    "num_att[20:]"
   ]
  },
  {
   "cell_type": "code",
   "execution_count": 10,
   "metadata": {},
   "outputs": [
    {
     "data": {
      "text/plain": [
       "array([[<matplotlib.axes._subplots.AxesSubplot object at 0x00000263A06BA148>]],\n",
       "      dtype=object)"
      ]
     },
     "execution_count": 10,
     "metadata": {},
     "output_type": "execute_result"
    },
    {
     "data": {
      "image/png": "[encoded data removed]",
      "text/plain": [
       "<Figure size 432x288 with 1 Axes>"
      ]
     },
     "metadata": {
      "needs_background": "light"
     },
     "output_type": "display_data"
    }
   ],
   "source": [
    "game_data[game_data[\"label\"]== 0][num_att[20:]].hist(bins = 30)"
   ]
  },
  {
   "cell_type": "code",
   "execution_count": 50,
   "metadata": {
    "scrolled": true
   },
   "outputs": [
    {
     "data": {
      "text/plain": [
       "array([[<matplotlib.axes._subplots.AxesSubplot object at 0x000001FFD26288C8>]],\n",
       "      dtype=object)"
      ]
     },
     "execution_count": 50,
     "metadata": {},
     "output_type": "execute_result"
    },
    {
     "data": {
      "image/png": "[encoded data removed]",
      "text/plain": [
       "<Figure size 432x288 with 1 Axes>"
      ]
     },
     "metadata": {
      "needs_background": "light"
     },
     "output_type": "display_data"
    }
   ],
   "source": [
    "game_data[game_data[\"label\"]== 1][num_att[20:]].hist(bins = 30)"
   ]
  },
  {
   "cell_type": "code",
   "execution_count": 57,
   "metadata": {},
   "outputs": [
    {
     "data": {
      "text/plain": [
       "<matplotlib.axes._subplots.AxesSubplot at 0x1ffd241ccc8>"
      ]
     },
     "execution_count": 57,
     "metadata": {},
     "output_type": "execute_result"
    },
    {
     "data": {
      "image/png": "[encoded data removed]",
      "text/plain": [
       "<Figure size 432x288 with 1 Axes>"
      ]
     },
     "metadata": {
      "needs_background": "light"
     },
     "output_type": "display_data"
    }
   ],
   "source": [
    "game_data[game_data[\"label\"]==0][id_att+[\"iTimeSpentDead\"]].groupby([game_data[\"uid\"],game_data[\"worldid\"]]).mean()\\\n",
    "[\"iTimeSpentDead\"].hist(bins = 30)"
   ]
  },
  {
   "cell_type": "code",
   "execution_count": 58,
   "metadata": {},
   "outputs": [
    {
     "data": {
      "text/plain": [
       "<matplotlib.axes._subplots.AxesSubplot at 0x1ffd24c5448>"
      ]
     },
     "execution_count": 58,
     "metadata": {},
     "output_type": "execute_result"
    },
    {
     "data": {
      "image/png": "[encoded data removed]",
      "text/plain": [
       "<Figure size 432x288 with 1 Axes>"
      ]
     },
     "metadata": {
      "needs_background": "light"
     },
     "output_type": "display_data"
    }
   ],
   "source": [
    "game_data[game_data[\"label\"]==1][id_att+[\"iTimeSpentDead\"]].groupby([game_data[\"uid\"],game_data[\"worldid\"]]).mean()\\\n",
    "[\"iTimeSpentDead\"].hist(bins = 30)"
   ]
  },
  {
   "cell_type": "code",
   "execution_count": 19,
   "metadata": {},
   "outputs": [],
   "source": [
    "#补充统计量：某个特征在某个账号下的极差（最大值减去最小值）\n",
    "#ctr即为count the range的缩写\n",
    "def ctr(data = game_data,att = \"game_score\",label = 0):\n",
    "    max_val = data[data[\"label\"]==label][id_att+[att]].groupby([data[\"uid\"],data[\"worldid\"]]).max()\n",
    "    min_val = data[data[\"label\"]==label][id_att+[att]].groupby([data[\"uid\"],data[\"worldid\"]]).min()\n",
    "    rge = max_val - min_val\n",
    "    return rge\n",
    "\n",
    "def ctr2(data = game_data,att = \"game_score\"):\n",
    "    max_val = data.groupby([data[\"uid\"],data[\"worldid\"]]).max()[att]\n",
    "    min_val = data.groupby([data[\"uid\"],data[\"worldid\"]]).min()[att]\n",
    "    rge = max_val - min_val\n",
    "    return rge"
   ]
  },
  {
   "cell_type": "code",
   "execution_count": 58,
   "metadata": {},
   "outputs": [
    {
     "data": {
      "text/plain": [
       "<matplotlib.axes._subplots.AxesSubplot at 0x20d431eab88>"
      ]
     },
     "execution_count": 58,
     "metadata": {},
     "output_type": "execute_result"
    },
    {
     "data": {
      "image/png": "[encoded data removed]",
      "text/plain": [
       "<Figure size 432x288 with 1 Axes>"
      ]
     },
     "metadata": {
      "needs_background": "light"
     },
     "output_type": "display_data"
    }
   ],
   "source": [
    "ctr(att = \"iMagicDamageDealt\")[\"iMagicDamageDealt\"].hist()"
   ]
  },
  {
   "cell_type": "code",
   "execution_count": 59,
   "metadata": {},
   "outputs": [
    {
     "data": {
      "text/plain": [
       "<matplotlib.axes._subplots.AxesSubplot at 0x20d4327c088>"
      ]
     },
     "execution_count": 59,
     "metadata": {},
     "output_type": "execute_result"
    },
    {
     "data": {
      "image/png": "[encoded data removed]",
      "text/plain": [
       "<Figure size 432x288 with 1 Axes>"
      ]
     },
     "metadata": {
      "needs_background": "light"
     },
     "output_type": "display_data"
    }
   ],
   "source": [
    "ctr(att = \"iMagicDamageDealt\",label = 1)[\"iMagicDamageDealt\"].hist()"
   ]
  },
  {
   "cell_type": "code",
   "execution_count": null,
   "metadata": {},
   "outputs": [],
   "source": [
    "#备注，还差一个特征：某选手3次或者4次及以上iLargestMultiKill占总比赛数目的比例；"
   ]
  },
  {
   "cell_type": "code",
   "execution_count": 12,
   "metadata": {},
   "outputs": [],
   "source": [
    "#需要简单统计量的特征\n",
    "need_max_att = [\"game_score\",\"num_deaths\",\"iLargestMultiKill\",\"champion_used_exp\",\"iLargestKillingSpree\",\"iMagicDamageDealt\"]\n",
    "need_median_att  = [\"champions_killed\"]\n",
    "need_min_att = [\"champions_killed\",\"iDuration\"]\n",
    "need_mean_att = [\"iExpTotal\",\"iRankInGame\"]\n",
    "need_std_att = [\"iDuration\"]\n",
    "\n",
    "#稍微复杂一点的统计量，如极差\n",
    "#这类特征主要是从简单统计量的特征里面找的，没有选进简单统计量的特征暂时没有考虑\n",
    "need_range_att = [\"game_score\",\"num_deaths\",\"iLargestMultiKill\",\"iMagicDamageDealt\",\"champions_killed\",\"iDuration\",\"iExpTotal\"]"
   ]
  },
  {
   "cell_type": "markdown",
   "metadata": {},
   "source": [
    "***开始提取特征...***"
   ]
  },
  {
   "cell_type": "code",
   "execution_count": 13,
   "metadata": {},
   "outputs": [],
   "source": [
    "max_df = game_data.groupby([game_data[\"uid\"],game_data[\"worldid\"]]).max()[need_max_att]\n",
    "\n",
    "new_name = []\n",
    "for name in need_max_att:\n",
    "    new_name.append(name+\"_max\")\n",
    "\n",
    "max_df.columns = new_name"
   ]
  },
  {
   "cell_type": "code",
   "execution_count": 14,
   "metadata": {},
   "outputs": [],
   "source": [
    "median_df = game_data.groupby([game_data[\"uid\"],game_data[\"worldid\"]]).median()[need_median_att]\n",
    "\n",
    "new_name = []\n",
    "for name in need_median_att:\n",
    "    new_name.append(name+\"_median\")\n",
    "    \n",
    "median_df.columns = new_name"
   ]
  },
  {
   "cell_type": "code",
   "execution_count": 15,
   "metadata": {},
   "outputs": [],
   "source": [
    "min_df = game_data.groupby([game_data[\"uid\"],game_data[\"worldid\"]]).min()[need_min_att]\n",
    "\n",
    "new_name = []\n",
    "for name in need_min_att:\n",
    "    new_name.append(name+\"_min\")\n",
    "    \n",
    "min_df.columns = new_name"
   ]
  },
  {
   "cell_type": "code",
   "execution_count": 16,
   "metadata": {},
   "outputs": [],
   "source": [
    "mean_df = game_data.groupby([game_data[\"uid\"],game_data[\"worldid\"]]).mean()[need_mean_att]\n",
    "\n",
    "new_name = []\n",
    "for name in need_mean_att:\n",
    "    new_name.append(name+\"_mean\")\n",
    "    \n",
    "mean_df.columns = new_name"
   ]
  },
  {
   "cell_type": "code",
   "execution_count": 17,
   "metadata": {},
   "outputs": [],
   "source": [
    "std_df = game_data.groupby([game_data[\"uid\"],game_data[\"worldid\"]]).std()[need_std_att]\n",
    "\n",
    "new_name = []\n",
    "for name in need_std_att:\n",
    "    new_name.append(name+\"_std\")\n",
    "    \n",
    "std_df.columns = new_name"
   ]
  },
  {
   "cell_type": "code",
   "execution_count": 20,
   "metadata": {},
   "outputs": [],
   "source": [
    "range_df = pd.DataFrame()\n",
    "\n",
    "for i in range(len(need_range_att)):\n",
    "    df_temp = pd.DataFrame(ctr2(att = need_range_att[i]))\n",
    "    range_df = pd.concat([range_df,df_temp],axis = 1)[:]\n",
    "\n",
    "new_name = []\n",
    "for name in need_range_att:\n",
    "    new_name.append(name+\"_range\")\n",
    "    \n",
    "range_df.columns = new_name"
   ]
  },
  {
   "cell_type": "code",
   "execution_count": 21,
   "metadata": {},
   "outputs": [],
   "source": [
    "all_need_att = pd.concat([max_df,median_df,min_df,mean_df,std_df,range_df],axis =1)[:]"
   ]
  },
  {
   "cell_type": "code",
   "execution_count": 22,
   "metadata": {},
   "outputs": [
    {
     "data": {
      "text/html": [
       "<div>\n",
       "<style scoped>\n",
       "    .dataframe tbody tr th:only-of-type {\n",
       "        vertical-align: middle;\n",
       "    }\n",
       "\n",
       "    .dataframe tbody tr th {\n",
       "        vertical-align: top;\n",
       "    }\n",
       "\n",
       "    .dataframe thead th {\n",
       "        text-align: right;\n",
       "    }\n",
       "</style>\n",
       "<table border=\"1\" class=\"dataframe\">\n",
       "  <thead>\n",
       "    <tr style=\"text-align: right;\">\n",
       "      <th></th>\n",
       "      <th></th>\n",
       "      <th>game_score_max</th>\n",
       "      <th>num_deaths_max</th>\n",
       "      <th>iLargestMultiKill_max</th>\n",
       "      <th>champion_used_exp_max</th>\n",
       "      <th>iLargestKillingSpree_max</th>\n",
       "      <th>iMagicDamageDealt_max</th>\n",
       "      <th>champions_killed_median</th>\n",
       "      <th>champions_killed_min</th>\n",
       "      <th>iDuration_min</th>\n",
       "      <th>iExpTotal_mean</th>\n",
       "      <th>iRankInGame_mean</th>\n",
       "      <th>iDuration_std</th>\n",
       "      <th>game_score_range</th>\n",
       "      <th>num_deaths_range</th>\n",
       "      <th>iLargestMultiKill_range</th>\n",
       "      <th>iMagicDamageDealt_range</th>\n",
       "      <th>champions_killed_range</th>\n",
       "      <th>iDuration_range</th>\n",
       "      <th>iExpTotal_range</th>\n",
       "    </tr>\n",
       "    <tr>\n",
       "      <th>uid</th>\n",
       "      <th>worldid</th>\n",
       "      <th></th>\n",
       "      <th></th>\n",
       "      <th></th>\n",
       "      <th></th>\n",
       "      <th></th>\n",
       "      <th></th>\n",
       "      <th></th>\n",
       "      <th></th>\n",
       "      <th></th>\n",
       "      <th></th>\n",
       "      <th></th>\n",
       "      <th></th>\n",
       "      <th></th>\n",
       "      <th></th>\n",
       "      <th></th>\n",
       "      <th></th>\n",
       "      <th></th>\n",
       "      <th></th>\n",
       "      <th></th>\n",
       "    </tr>\n",
       "  </thead>\n",
       "  <tbody>\n",
       "    <tr>\n",
       "      <td>53441893</td>\n",
       "      <td>75</td>\n",
       "      <td>1010</td>\n",
       "      <td>5</td>\n",
       "      <td>1</td>\n",
       "      <td>26776</td>\n",
       "      <td>4</td>\n",
       "      <td>24954</td>\n",
       "      <td>4.0</td>\n",
       "      <td>0</td>\n",
       "      <td>946</td>\n",
       "      <td>1572.666667</td>\n",
       "      <td>1460.000000</td>\n",
       "      <td>331.161592</td>\n",
       "      <td>540</td>\n",
       "      <td>3</td>\n",
       "      <td>1</td>\n",
       "      <td>18663</td>\n",
       "      <td>5</td>\n",
       "      <td>630</td>\n",
       "      <td>1541</td>\n",
       "    </tr>\n",
       "    <tr>\n",
       "      <td>53499839</td>\n",
       "      <td>73</td>\n",
       "      <td>1170</td>\n",
       "      <td>8</td>\n",
       "      <td>2</td>\n",
       "      <td>25393</td>\n",
       "      <td>5</td>\n",
       "      <td>7580</td>\n",
       "      <td>10.5</td>\n",
       "      <td>7</td>\n",
       "      <td>1415</td>\n",
       "      <td>1873.000000</td>\n",
       "      <td>1557.000000</td>\n",
       "      <td>317.490945</td>\n",
       "      <td>320</td>\n",
       "      <td>4</td>\n",
       "      <td>1</td>\n",
       "      <td>6916</td>\n",
       "      <td>7</td>\n",
       "      <td>449</td>\n",
       "      <td>108</td>\n",
       "    </tr>\n",
       "    <tr>\n",
       "      <td>53509485</td>\n",
       "      <td>75</td>\n",
       "      <td>1460</td>\n",
       "      <td>11</td>\n",
       "      <td>2</td>\n",
       "      <td>16951</td>\n",
       "      <td>7</td>\n",
       "      <td>146412</td>\n",
       "      <td>6.0</td>\n",
       "      <td>2</td>\n",
       "      <td>1462</td>\n",
       "      <td>1257.000000</td>\n",
       "      <td>1001.750000</td>\n",
       "      <td>280.119745</td>\n",
       "      <td>810</td>\n",
       "      <td>8</td>\n",
       "      <td>1</td>\n",
       "      <td>140875</td>\n",
       "      <td>9</td>\n",
       "      <td>720</td>\n",
       "      <td>2900</td>\n",
       "    </tr>\n",
       "    <tr>\n",
       "      <td>53547389</td>\n",
       "      <td>75</td>\n",
       "      <td>1260</td>\n",
       "      <td>8</td>\n",
       "      <td>2</td>\n",
       "      <td>16492</td>\n",
       "      <td>6</td>\n",
       "      <td>141425</td>\n",
       "      <td>2.0</td>\n",
       "      <td>0</td>\n",
       "      <td>1379</td>\n",
       "      <td>1519.000000</td>\n",
       "      <td>1323.800000</td>\n",
       "      <td>251.848566</td>\n",
       "      <td>860</td>\n",
       "      <td>7</td>\n",
       "      <td>2</td>\n",
       "      <td>125988</td>\n",
       "      <td>16</td>\n",
       "      <td>637</td>\n",
       "      <td>2590</td>\n",
       "    </tr>\n",
       "    <tr>\n",
       "      <td>53556293</td>\n",
       "      <td>73</td>\n",
       "      <td>1380</td>\n",
       "      <td>11</td>\n",
       "      <td>2</td>\n",
       "      <td>28230</td>\n",
       "      <td>4</td>\n",
       "      <td>120535</td>\n",
       "      <td>4.0</td>\n",
       "      <td>0</td>\n",
       "      <td>929</td>\n",
       "      <td>1500.714286</td>\n",
       "      <td>1589.214286</td>\n",
       "      <td>327.765336</td>\n",
       "      <td>1080</td>\n",
       "      <td>11</td>\n",
       "      <td>2</td>\n",
       "      <td>118943</td>\n",
       "      <td>13</td>\n",
       "      <td>1258</td>\n",
       "      <td>2485</td>\n",
       "    </tr>\n",
       "  </tbody>\n",
       "</table>\n",
       "</div>"
      ],
      "text/plain": [
       "                  game_score_max  num_deaths_max  iLargestMultiKill_max  \\\n",
       "uid      worldid                                                          \n",
       "53441893 75                 1010               5                      1   \n",
       "53499839 73                 1170               8                      2   \n",
       "53509485 75                 1460              11                      2   \n",
       "53547389 75                 1260               8                      2   \n",
       "53556293 73                 1380              11                      2   \n",
       "\n",
       "                  champion_used_exp_max  iLargestKillingSpree_max  \\\n",
       "uid      worldid                                                    \n",
       "53441893 75                       26776                         4   \n",
       "53499839 73                       25393                         5   \n",
       "53509485 75                       16951                         7   \n",
       "53547389 75                       16492                         6   \n",
       "53556293 73                       28230                         4   \n",
       "\n",
       "                  iMagicDamageDealt_max  champions_killed_median  \\\n",
       "uid      worldid                                                   \n",
       "53441893 75                       24954                      4.0   \n",
       "53499839 73                        7580                     10.5   \n",
       "53509485 75                      146412                      6.0   \n",
       "53547389 75                      141425                      2.0   \n",
       "53556293 73                      120535                      4.0   \n",
       "\n",
       "                  champions_killed_min  iDuration_min  iExpTotal_mean  \\\n",
       "uid      worldid                                                        \n",
       "53441893 75                          0            946     1572.666667   \n",
       "53499839 73                          7           1415     1873.000000   \n",
       "53509485 75                          2           1462     1257.000000   \n",
       "53547389 75                          0           1379     1519.000000   \n",
       "53556293 73                          0            929     1500.714286   \n",
       "\n",
       "                  iRankInGame_mean  iDuration_std  game_score_range  \\\n",
       "uid      worldid                                                      \n",
       "53441893 75            1460.000000     331.161592               540   \n",
       "53499839 73            1557.000000     317.490945               320   \n",
       "53509485 75            1001.750000     280.119745               810   \n",
       "53547389 75            1323.800000     251.848566               860   \n",
       "53556293 73            1589.214286     327.765336              1080   \n",
       "\n",
       "                  num_deaths_range  iLargestMultiKill_range  \\\n",
       "uid      worldid                                              \n",
       "53441893 75                      3                        1   \n",
       "53499839 73                      4                        1   \n",
       "53509485 75                      8                        1   \n",
       "53547389 75                      7                        2   \n",
       "53556293 73                     11                        2   \n",
       "\n",
       "                  iMagicDamageDealt_range  champions_killed_range  \\\n",
       "uid      worldid                                                    \n",
       "53441893 75                         18663                       5   \n",
       "53499839 73                          6916                       7   \n",
       "53509485 75                        140875                       9   \n",
       "53547389 75                        125988                      16   \n",
       "53556293 73                        118943                      13   \n",
       "\n",
       "                  iDuration_range  iExpTotal_range  \n",
       "uid      worldid                                    \n",
       "53441893 75                   630             1541  \n",
       "53499839 73                   449              108  \n",
       "53509485 75                   720             2900  \n",
       "53547389 75                   637             2590  \n",
       "53556293 73                  1258             2485  "
      ]
     },
     "execution_count": 22,
     "metadata": {},
     "output_type": "execute_result"
    }
   ],
   "source": [
    "all_need_att.head()"
   ]
  },
  {
   "cell_type": "code",
   "execution_count": 25,
   "metadata": {},
   "outputs": [],
   "source": [
    "#获取label的值\n",
    "label_att = game_data[[\"uid\",\"worldid\",\"label\"]].drop_duplicates()"
   ]
  },
  {
   "cell_type": "code",
   "execution_count": 26,
   "metadata": {},
   "outputs": [],
   "source": [
    "#将label和特征数据集连接，准备开始建模\n",
    "prepare_data = pd.merge(label_att,all_need_att,how = \"inner\",left_on =[\"uid\",\"worldid\"],right_index = True)[:]"
   ]
  },
  {
   "cell_type": "markdown",
   "metadata": {},
   "source": [
    "# 尝试用gbdt观察效果"
   ]
  },
  {
   "cell_type": "markdown",
   "metadata": {},
   "source": [
    "***注：这里只是简单地建立模型，没有通过各种融合还有调参***"
   ]
  },
  {
   "cell_type": "code",
   "execution_count": 4,
   "metadata": {},
   "outputs": [],
   "source": [
    "#此处为读取数据不需要运行\n",
    "#prepare_data = pd.read_csv(\"prepare_data.csv\").iloc[:,1:]"
   ]
  },
  {
   "cell_type": "code",
   "execution_count": 5,
   "metadata": {},
   "outputs": [],
   "source": [
    "from sklearn.model_selection import train_test_split\n",
    "from sklearn.ensemble import GradientBoostingClassifier\n",
    "from sklearn.metrics import roc_auc_score"
   ]
  },
  {
   "cell_type": "code",
   "execution_count": 6,
   "metadata": {},
   "outputs": [],
   "source": [
    "#先不使用iDuration_std\n",
    "X = prepare_data.drop(columns = [\"uid\",\"worldid\",\"label\",\"iDuration_std\"]).copy()\n",
    "y = prepare_data[[\"label\"]].copy()"
   ]
  },
  {
   "cell_type": "code",
   "execution_count": 7,
   "metadata": {},
   "outputs": [],
   "source": [
    "X_train,X_val,y_train,y_val = train_test_split(X,y,test_size = 0.2,random_state = 42)"
   ]
  },
  {
   "cell_type": "code",
   "execution_count": 177,
   "metadata": {},
   "outputs": [
    {
     "name": "stderr",
     "output_type": "stream",
     "text": [
      "E:\\Anaconda\\lib\\site-packages\\sklearn\\ensemble\\gradient_boosting.py:1450: DataConversionWarning: A column-vector y was passed when a 1d array was expected. Please change the shape of y to (n_samples, ), for example using ravel().\n",
      "  y = column_or_1d(y, warn=True)\n"
     ]
    },
    {
     "data": {
      "text/plain": [
       "GradientBoostingClassifier(criterion='friedman_mse', init=None,\n",
       "                           learning_rate=0.1, loss='deviance', max_depth=3,\n",
       "                           max_features=None, max_leaf_nodes=None,\n",
       "                           min_impurity_decrease=0.0, min_impurity_split=None,\n",
       "                           min_samples_leaf=1, min_samples_split=2,\n",
       "                           min_weight_fraction_leaf=0.0, n_estimators=100,\n",
       "                           n_iter_no_change=None, presort='auto',\n",
       "                           random_state=42, subsample=1.0, tol=0.0001,\n",
       "                           validation_fraction=0.1, verbose=0,\n",
       "                           warm_start=False)"
      ]
     },
     "execution_count": 177,
     "metadata": {},
     "output_type": "execute_result"
    }
   ],
   "source": [
    "gbdt = GradientBoostingClassifier(random_state = 42)\n",
    "gbdt.fit(X_train,y_train)"
   ]
  },
  {
   "cell_type": "code",
   "execution_count": 178,
   "metadata": {},
   "outputs": [
    {
     "data": {
      "text/plain": [
       "0.8265317774516422"
      ]
     },
     "execution_count": 178,
     "metadata": {},
     "output_type": "execute_result"
    }
   ],
   "source": [
    "y_prob_gbdt = gbdt.predict_proba(X_val)[:,1]\n",
    "roc_auc_score(y_val,y_prob_gbdt)"
   ]
  },
  {
   "cell_type": "code",
   "execution_count": 180,
   "metadata": {},
   "outputs": [],
   "source": [
    "#使用iDuration_std,这里NA值填充为0，因为NA是因为该账号只有一场比赛，标准差就是0\n",
    "X2 = prepare_data.drop(columns = [\"uid\",\"worldid\",\"label\"]).copy().fillna(0)\n",
    "y2 = prepare_data[[\"label\"]].copy()"
   ]
  },
  {
   "cell_type": "code",
   "execution_count": 181,
   "metadata": {},
   "outputs": [],
   "source": [
    "X_train2,X_val2,y_train2,y_val2 = train_test_split(X2,y2,test_size = 0.2,random_state = 42)"
   ]
  },
  {
   "cell_type": "code",
   "execution_count": 182,
   "metadata": {},
   "outputs": [
    {
     "name": "stderr",
     "output_type": "stream",
     "text": [
      "E:\\Anaconda\\lib\\site-packages\\sklearn\\ensemble\\gradient_boosting.py:1450: DataConversionWarning: A column-vector y was passed when a 1d array was expected. Please change the shape of y to (n_samples, ), for example using ravel().\n",
      "  y = column_or_1d(y, warn=True)\n"
     ]
    },
    {
     "data": {
      "text/plain": [
       "GradientBoostingClassifier(criterion='friedman_mse', init=None,\n",
       "                           learning_rate=0.1, loss='deviance', max_depth=3,\n",
       "                           max_features=None, max_leaf_nodes=None,\n",
       "                           min_impurity_decrease=0.0, min_impurity_split=None,\n",
       "                           min_samples_leaf=1, min_samples_split=2,\n",
       "                           min_weight_fraction_leaf=0.0, n_estimators=100,\n",
       "                           n_iter_no_change=None, presort='auto',\n",
       "                           random_state=42, subsample=1.0, tol=0.0001,\n",
       "                           validation_fraction=0.1, verbose=0,\n",
       "                           warm_start=False)"
      ]
     },
     "execution_count": 182,
     "metadata": {},
     "output_type": "execute_result"
    }
   ],
   "source": [
    "gbdt2 = GradientBoostingClassifier(random_state = 42)\n",
    "gbdt2.fit(X_train2,y_train2)"
   ]
  },
  {
   "cell_type": "code",
   "execution_count": 183,
   "metadata": {},
   "outputs": [
    {
     "data": {
      "text/plain": [
       "0.8276026393646331"
      ]
     },
     "execution_count": 183,
     "metadata": {},
     "output_type": "execute_result"
    }
   ],
   "source": [
    "y_prob_gbdt2 = gbdt2.predict_proba(X_val2)[:,1]\n",
    "roc_auc_score(y_val2,y_prob_gbdt2)"
   ]
  },
  {
   "cell_type": "code",
   "execution_count": 88,
   "metadata": {},
   "outputs": [
    {
     "name": "stderr",
     "output_type": "stream",
     "text": [
      "E:\\Anaconda\\lib\\site-packages\\sklearn\\ensemble\\forest.py:245: FutureWarning: The default value of n_estimators will change from 10 in version 0.20 to 100 in 0.22.\n",
      "  \"10 in version 0.20 to 100 in 0.22.\", FutureWarning)\n",
      "E:\\Anaconda\\lib\\site-packages\\ipykernel_launcher.py:10: DataConversionWarning: A column-vector y was passed when a 1d array was expected. Please change the shape of y to (n_samples,), for example using ravel().\n",
      "  # Remove the CWD from sys.path while we load stuff.\n"
     ]
    },
    {
     "data": {
      "text/plain": [
       "RandomForestClassifier(bootstrap=True, class_weight=None, criterion='gini',\n",
       "                       max_depth=None, max_features='auto', max_leaf_nodes=None,\n",
       "                       min_impurity_decrease=0.0, min_impurity_split=None,\n",
       "                       min_samples_leaf=1, min_samples_split=2,\n",
       "                       min_weight_fraction_leaf=0.0, n_estimators=10,\n",
       "                       n_jobs=None, oob_score=False, random_state=42, verbose=0,\n",
       "                       warm_start=False)"
      ]
     },
     "execution_count": 88,
     "metadata": {},
     "output_type": "execute_result"
    }
   ],
   "source": [
    "#尝试用随机森林观察特征重要性\n",
    "from sklearn.ensemble import RandomForestClassifier\n",
    "\n",
    "X3 = prepare_data.drop(columns = [\"uid\",\"worldid\",\"label\"]).copy()\n",
    "y3 = prepare_data[[\"label\"]].copy()\n",
    "\n",
    "X3 = X3.fillna(-999)\n",
    "\n",
    "rf = RandomForestClassifier(random_state =42)\n",
    "rf.fit(X3,y3)"
   ]
  },
  {
   "cell_type": "code",
   "execution_count": 89,
   "metadata": {},
   "outputs": [
    {
     "data": {
      "text/plain": [
       "([<matplotlib.axis.XTick at 0x2639cbdd608>,\n",
       "  <matplotlib.axis.XTick at 0x2639cbd7c48>,\n",
       "  <matplotlib.axis.XTick at 0x2639cbd7408>,\n",
       "  <matplotlib.axis.XTick at 0x2639cc05448>,\n",
       "  <matplotlib.axis.XTick at 0x2639cc05b08>,\n",
       "  <matplotlib.axis.XTick at 0x2639cc08248>,\n",
       "  <matplotlib.axis.XTick at 0x2639cc08bc8>,\n",
       "  <matplotlib.axis.XTick at 0x2639cc0e548>,\n",
       "  <matplotlib.axis.XTick at 0x2639cc11208>,\n",
       "  <matplotlib.axis.XTick at 0x2639cc08048>,\n",
       "  <matplotlib.axis.XTick at 0x2639cc117c8>,\n",
       "  <matplotlib.axis.XTick at 0x2639cc16188>,\n",
       "  <matplotlib.axis.XTick at 0x2639cc16ac8>,\n",
       "  <matplotlib.axis.XTick at 0x2639cc1b448>,\n",
       "  <matplotlib.axis.XTick at 0x2639cc1e088>,\n",
       "  <matplotlib.axis.XTick at 0x2639cc1ea88>,\n",
       "  <matplotlib.axis.XTick at 0x2639cc22588>,\n",
       "  <matplotlib.axis.XTick at 0x2639cc26108>,\n",
       "  <matplotlib.axis.XTick at 0x2639cc26b48>],\n",
       " <a list of 19 Text xticklabel objects>)"
      ]
     },
     "execution_count": 89,
     "metadata": {},
     "output_type": "execute_result"
    },
    {
     "data": {
      "image/png": "[encoded data removed]",
      "text/plain": [
       "<Figure size 432x288 with 1 Axes>"
      ]
     },
     "metadata": {
      "needs_background": "light"
     },
     "output_type": "display_data"
    }
   ],
   "source": [
    "import matplotlib.pyplot as plt\n",
    "plt.plot(rf.feature_importances_)\n",
    "plt.xticks(np.arange(X3.shape[1]),X3.columns.tolist(), rotation=90)"
   ]
  },
  {
   "cell_type": "code",
   "execution_count": 10,
   "metadata": {},
   "outputs": [
    {
     "data": {
      "text/plain": [
       "<matplotlib.axes._subplots.AxesSubplot at 0x21ede0dd948>"
      ]
     },
     "execution_count": 10,
     "metadata": {},
     "output_type": "execute_result"
    },
    {
     "data": {
      "image/png": "[encoded data removed]",
      "text/plain": [
       "<Figure size 432x288 with 1 Axes>"
      ]
     },
     "metadata": {
      "needs_background": "light"
     },
     "output_type": "display_data"
    }
   ],
   "source": [
    "from xgboost import XGBClassifier,plot_importance\n",
    "xgb = XGBClassifier(random_state = 42)\n",
    "xgb.fit(X_train,y_train)\n",
    "plot_importance(xgb,max_num_features = 20)"
   ]
  },
  {
   "cell_type": "markdown",
   "metadata": {},
   "source": [
    "# 研究datetime相关的特征"
   ]
  },
  {
   "cell_type": "code",
   "execution_count": 106,
   "metadata": {},
   "outputs": [
    {
     "data": {
      "text/html": [
       "<div>\n",
       "<style scoped>\n",
       "    .dataframe tbody tr th:only-of-type {\n",
       "        vertical-align: middle;\n",
       "    }\n",
       "\n",
       "    .dataframe tbody tr th {\n",
       "        vertical-align: top;\n",
       "    }\n",
       "\n",
       "    .dataframe thead th {\n",
       "        text-align: right;\n",
       "    }\n",
       "</style>\n",
       "<table border=\"1\" class=\"dataframe\">\n",
       "  <thead>\n",
       "    <tr style=\"text-align: right;\">\n",
       "      <th></th>\n",
       "      <th>uid</th>\n",
       "      <th>worldid</th>\n",
       "      <th>label</th>\n",
       "      <th>game_score_max</th>\n",
       "      <th>num_deaths_max</th>\n",
       "      <th>iLargestMultiKill_max</th>\n",
       "      <th>champion_used_exp_max</th>\n",
       "      <th>iLargestKillingSpree_max</th>\n",
       "      <th>iMagicDamageDealt_max</th>\n",
       "      <th>champions_killed_median</th>\n",
       "      <th>...</th>\n",
       "      <th>iExpTotal_mean</th>\n",
       "      <th>iRankInGame_mean</th>\n",
       "      <th>iDuration_std</th>\n",
       "      <th>game_score_range</th>\n",
       "      <th>num_deaths_range</th>\n",
       "      <th>iLargestMultiKill_range</th>\n",
       "      <th>iMagicDamageDealt_range</th>\n",
       "      <th>champions_killed_range</th>\n",
       "      <th>iDuration_range</th>\n",
       "      <th>iExpTotal_range</th>\n",
       "    </tr>\n",
       "  </thead>\n",
       "  <tbody>\n",
       "    <tr>\n",
       "      <td>0</td>\n",
       "      <td>2928536459</td>\n",
       "      <td>82</td>\n",
       "      <td>0</td>\n",
       "      <td>1310</td>\n",
       "      <td>12</td>\n",
       "      <td>3</td>\n",
       "      <td>19026</td>\n",
       "      <td>7</td>\n",
       "      <td>72067</td>\n",
       "      <td>6.0</td>\n",
       "      <td>...</td>\n",
       "      <td>1546.857143</td>\n",
       "      <td>1166.190476</td>\n",
       "      <td>426.327797</td>\n",
       "      <td>830</td>\n",
       "      <td>9</td>\n",
       "      <td>2</td>\n",
       "      <td>67876</td>\n",
       "      <td>15</td>\n",
       "      <td>1385</td>\n",
       "      <td>2595</td>\n",
       "    </tr>\n",
       "    <tr>\n",
       "      <td>1</td>\n",
       "      <td>2945527479</td>\n",
       "      <td>84</td>\n",
       "      <td>0</td>\n",
       "      <td>1090</td>\n",
       "      <td>9</td>\n",
       "      <td>2</td>\n",
       "      <td>19394</td>\n",
       "      <td>3</td>\n",
       "      <td>75287</td>\n",
       "      <td>3.0</td>\n",
       "      <td>...</td>\n",
       "      <td>1959.000000</td>\n",
       "      <td>1246.750000</td>\n",
       "      <td>318.223585</td>\n",
       "      <td>640</td>\n",
       "      <td>6</td>\n",
       "      <td>1</td>\n",
       "      <td>64535</td>\n",
       "      <td>5</td>\n",
       "      <td>758</td>\n",
       "      <td>1417</td>\n",
       "    </tr>\n",
       "    <tr>\n",
       "      <td>2</td>\n",
       "      <td>2953484894</td>\n",
       "      <td>90</td>\n",
       "      <td>0</td>\n",
       "      <td>770</td>\n",
       "      <td>9</td>\n",
       "      <td>2</td>\n",
       "      <td>7804</td>\n",
       "      <td>2</td>\n",
       "      <td>498</td>\n",
       "      <td>6.0</td>\n",
       "      <td>...</td>\n",
       "      <td>2092.000000</td>\n",
       "      <td>1067.000000</td>\n",
       "      <td>NaN</td>\n",
       "      <td>0</td>\n",
       "      <td>0</td>\n",
       "      <td>0</td>\n",
       "      <td>0</td>\n",
       "      <td>0</td>\n",
       "      <td>0</td>\n",
       "      <td>0</td>\n",
       "    </tr>\n",
       "    <tr>\n",
       "      <td>3</td>\n",
       "      <td>2959141576</td>\n",
       "      <td>98</td>\n",
       "      <td>0</td>\n",
       "      <td>1370</td>\n",
       "      <td>10</td>\n",
       "      <td>2</td>\n",
       "      <td>20295</td>\n",
       "      <td>5</td>\n",
       "      <td>139081</td>\n",
       "      <td>2.0</td>\n",
       "      <td>...</td>\n",
       "      <td>1056.352941</td>\n",
       "      <td>1476.941176</td>\n",
       "      <td>351.998851</td>\n",
       "      <td>1070</td>\n",
       "      <td>10</td>\n",
       "      <td>2</td>\n",
       "      <td>139081</td>\n",
       "      <td>13</td>\n",
       "      <td>1247</td>\n",
       "      <td>2296</td>\n",
       "    </tr>\n",
       "    <tr>\n",
       "      <td>4</td>\n",
       "      <td>4005924015</td>\n",
       "      <td>93</td>\n",
       "      <td>1</td>\n",
       "      <td>1330</td>\n",
       "      <td>14</td>\n",
       "      <td>2</td>\n",
       "      <td>13323</td>\n",
       "      <td>5</td>\n",
       "      <td>129842</td>\n",
       "      <td>5.5</td>\n",
       "      <td>...</td>\n",
       "      <td>1702.000000</td>\n",
       "      <td>1518.600000</td>\n",
       "      <td>284.222546</td>\n",
       "      <td>800</td>\n",
       "      <td>13</td>\n",
       "      <td>2</td>\n",
       "      <td>127225</td>\n",
       "      <td>11</td>\n",
       "      <td>989</td>\n",
       "      <td>2755</td>\n",
       "    </tr>\n",
       "    <tr>\n",
       "      <td>...</td>\n",
       "      <td>...</td>\n",
       "      <td>...</td>\n",
       "      <td>...</td>\n",
       "      <td>...</td>\n",
       "      <td>...</td>\n",
       "      <td>...</td>\n",
       "      <td>...</td>\n",
       "      <td>...</td>\n",
       "      <td>...</td>\n",
       "      <td>...</td>\n",
       "      <td>...</td>\n",
       "      <td>...</td>\n",
       "      <td>...</td>\n",
       "      <td>...</td>\n",
       "      <td>...</td>\n",
       "      <td>...</td>\n",
       "      <td>...</td>\n",
       "      <td>...</td>\n",
       "      <td>...</td>\n",
       "      <td>...</td>\n",
       "      <td>...</td>\n",
       "    </tr>\n",
       "    <tr>\n",
       "      <td>90646</td>\n",
       "      <td>2930606436</td>\n",
       "      <td>91</td>\n",
       "      <td>0</td>\n",
       "      <td>880</td>\n",
       "      <td>12</td>\n",
       "      <td>2</td>\n",
       "      <td>24293</td>\n",
       "      <td>3</td>\n",
       "      <td>5096</td>\n",
       "      <td>11.0</td>\n",
       "      <td>...</td>\n",
       "      <td>744.000000</td>\n",
       "      <td>1534.000000</td>\n",
       "      <td>NaN</td>\n",
       "      <td>0</td>\n",
       "      <td>0</td>\n",
       "      <td>0</td>\n",
       "      <td>0</td>\n",
       "      <td>0</td>\n",
       "      <td>0</td>\n",
       "      <td>0</td>\n",
       "    </tr>\n",
       "    <tr>\n",
       "      <td>90647</td>\n",
       "      <td>4009183319</td>\n",
       "      <td>94</td>\n",
       "      <td>0</td>\n",
       "      <td>480</td>\n",
       "      <td>8</td>\n",
       "      <td>2</td>\n",
       "      <td>12858</td>\n",
       "      <td>4</td>\n",
       "      <td>11095</td>\n",
       "      <td>5.0</td>\n",
       "      <td>...</td>\n",
       "      <td>1209.000000</td>\n",
       "      <td>990.000000</td>\n",
       "      <td>NaN</td>\n",
       "      <td>0</td>\n",
       "      <td>0</td>\n",
       "      <td>0</td>\n",
       "      <td>0</td>\n",
       "      <td>0</td>\n",
       "      <td>0</td>\n",
       "      <td>0</td>\n",
       "    </tr>\n",
       "    <tr>\n",
       "      <td>90648</td>\n",
       "      <td>4041638739</td>\n",
       "      <td>86</td>\n",
       "      <td>0</td>\n",
       "      <td>1080</td>\n",
       "      <td>6</td>\n",
       "      <td>1</td>\n",
       "      <td>8688</td>\n",
       "      <td>3</td>\n",
       "      <td>9047</td>\n",
       "      <td>12.0</td>\n",
       "      <td>...</td>\n",
       "      <td>897.000000</td>\n",
       "      <td>1342.000000</td>\n",
       "      <td>NaN</td>\n",
       "      <td>0</td>\n",
       "      <td>0</td>\n",
       "      <td>0</td>\n",
       "      <td>0</td>\n",
       "      <td>0</td>\n",
       "      <td>0</td>\n",
       "      <td>0</td>\n",
       "    </tr>\n",
       "    <tr>\n",
       "      <td>90649</td>\n",
       "      <td>4135119484</td>\n",
       "      <td>99</td>\n",
       "      <td>0</td>\n",
       "      <td>720</td>\n",
       "      <td>5</td>\n",
       "      <td>0</td>\n",
       "      <td>5931</td>\n",
       "      <td>0</td>\n",
       "      <td>41901</td>\n",
       "      <td>0.0</td>\n",
       "      <td>...</td>\n",
       "      <td>1399.000000</td>\n",
       "      <td>969.000000</td>\n",
       "      <td>NaN</td>\n",
       "      <td>0</td>\n",
       "      <td>0</td>\n",
       "      <td>0</td>\n",
       "      <td>0</td>\n",
       "      <td>0</td>\n",
       "      <td>0</td>\n",
       "      <td>0</td>\n",
       "    </tr>\n",
       "    <tr>\n",
       "      <td>90650</td>\n",
       "      <td>2934290504</td>\n",
       "      <td>90</td>\n",
       "      <td>0</td>\n",
       "      <td>1170</td>\n",
       "      <td>7</td>\n",
       "      <td>2</td>\n",
       "      <td>8339</td>\n",
       "      <td>4</td>\n",
       "      <td>11588</td>\n",
       "      <td>9.0</td>\n",
       "      <td>...</td>\n",
       "      <td>648.000000</td>\n",
       "      <td>1130.000000</td>\n",
       "      <td>NaN</td>\n",
       "      <td>0</td>\n",
       "      <td>0</td>\n",
       "      <td>0</td>\n",
       "      <td>0</td>\n",
       "      <td>0</td>\n",
       "      <td>0</td>\n",
       "      <td>0</td>\n",
       "    </tr>\n",
       "  </tbody>\n",
       "</table>\n",
       "<p>90651 rows × 22 columns</p>\n",
       "</div>"
      ],
      "text/plain": [
       "              uid  worldid  label  game_score_max  num_deaths_max  \\\n",
       "0      2928536459       82      0            1310              12   \n",
       "1      2945527479       84      0            1090               9   \n",
       "2      2953484894       90      0             770               9   \n",
       "3      2959141576       98      0            1370              10   \n",
       "4      4005924015       93      1            1330              14   \n",
       "...           ...      ...    ...             ...             ...   \n",
       "90646  2930606436       91      0             880              12   \n",
       "90647  4009183319       94      0             480               8   \n",
       "90648  4041638739       86      0            1080               6   \n",
       "90649  4135119484       99      0             720               5   \n",
       "90650  2934290504       90      0            1170               7   \n",
       "\n",
       "       iLargestMultiKill_max  champion_used_exp_max  iLargestKillingSpree_max  \\\n",
       "0                          3                  19026                         7   \n",
       "1                          2                  19394                         3   \n",
       "2                          2                   7804                         2   \n",
       "3                          2                  20295                         5   \n",
       "4                          2                  13323                         5   \n",
       "...                      ...                    ...                       ...   \n",
       "90646                      2                  24293                         3   \n",
       "90647                      2                  12858                         4   \n",
       "90648                      1                   8688                         3   \n",
       "90649                      0                   5931                         0   \n",
       "90650                      2                   8339                         4   \n",
       "\n",
       "       iMagicDamageDealt_max  champions_killed_median  ...  iExpTotal_mean  \\\n",
       "0                      72067                      6.0  ...     1546.857143   \n",
       "1                      75287                      3.0  ...     1959.000000   \n",
       "2                        498                      6.0  ...     2092.000000   \n",
       "3                     139081                      2.0  ...     1056.352941   \n",
       "4                     129842                      5.5  ...     1702.000000   \n",
       "...                      ...                      ...  ...             ...   \n",
       "90646                   5096                     11.0  ...      744.000000   \n",
       "90647                  11095                      5.0  ...     1209.000000   \n",
       "90648                   9047                     12.0  ...      897.000000   \n",
       "90649                  41901                      0.0  ...     1399.000000   \n",
       "90650                  11588                      9.0  ...      648.000000   \n",
       "\n",
       "       iRankInGame_mean  iDuration_std  game_score_range  num_deaths_range  \\\n",
       "0           1166.190476     426.327797               830                 9   \n",
       "1           1246.750000     318.223585               640                 6   \n",
       "2           1067.000000            NaN                 0                 0   \n",
       "3           1476.941176     351.998851              1070                10   \n",
       "4           1518.600000     284.222546               800                13   \n",
       "...                 ...            ...               ...               ...   \n",
       "90646       1534.000000            NaN                 0                 0   \n",
       "90647        990.000000            NaN                 0                 0   \n",
       "90648       1342.000000            NaN                 0                 0   \n",
       "90649        969.000000            NaN                 0                 0   \n",
       "90650       1130.000000            NaN                 0                 0   \n",
       "\n",
       "       iLargestMultiKill_range  iMagicDamageDealt_range  \\\n",
       "0                            2                    67876   \n",
       "1                            1                    64535   \n",
       "2                            0                        0   \n",
       "3                            2                   139081   \n",
       "4                            2                   127225   \n",
       "...                        ...                      ...   \n",
       "90646                        0                        0   \n",
       "90647                        0                        0   \n",
       "90648                        0                        0   \n",
       "90649                        0                        0   \n",
       "90650                        0                        0   \n",
       "\n",
       "       champions_killed_range  iDuration_range  iExpTotal_range  \n",
       "0                          15             1385             2595  \n",
       "1                           5              758             1417  \n",
       "2                           0                0                0  \n",
       "3                          13             1247             2296  \n",
       "4                          11              989             2755  \n",
       "...                       ...              ...              ...  \n",
       "90646                       0                0                0  \n",
       "90647                       0                0                0  \n",
       "90648                       0                0                0  \n",
       "90649                       0                0                0  \n",
       "90650                       0                0                0  \n",
       "\n",
       "[90651 rows x 22 columns]"
      ]
     },
     "execution_count": 106,
     "metadata": {},
     "output_type": "execute_result"
    }
   ],
   "source": [
    "prepare_data"
   ]
  },
  {
   "cell_type": "code",
   "execution_count": 108,
   "metadata": {},
   "outputs": [
    {
     "data": {
      "text/html": [
       "<div>\n",
       "<style scoped>\n",
       "    .dataframe tbody tr th:only-of-type {\n",
       "        vertical-align: middle;\n",
       "    }\n",
       "\n",
       "    .dataframe tbody tr th {\n",
       "        vertical-align: top;\n",
       "    }\n",
       "\n",
       "    .dataframe thead th {\n",
       "        text-align: right;\n",
       "    }\n",
       "</style>\n",
       "<table border=\"1\" class=\"dataframe\">\n",
       "  <thead>\n",
       "    <tr style=\"text-align: right;\">\n",
       "      <th></th>\n",
       "      <th>uid</th>\n",
       "      <th>worldid</th>\n",
       "      <th>game_id</th>\n",
       "      <th>dtEvnetTime</th>\n",
       "      <th>dtGameStartTime</th>\n",
       "      <th>battle_time</th>\n",
       "    </tr>\n",
       "  </thead>\n",
       "  <tbody>\n",
       "    <tr>\n",
       "      <td>0</td>\n",
       "      <td>2928536459</td>\n",
       "      <td>82</td>\n",
       "      <td>1499793258</td>\n",
       "      <td>2019-03-02 05:40:19</td>\n",
       "      <td>2019-03-02 05:05:02</td>\n",
       "      <td>2019-03-02 05:03:57</td>\n",
       "    </tr>\n",
       "    <tr>\n",
       "      <td>1</td>\n",
       "      <td>2928536459</td>\n",
       "      <td>82</td>\n",
       "      <td>1498817225</td>\n",
       "      <td>2019-02-27 21:02:48</td>\n",
       "      <td>2019-02-27 20:27:11</td>\n",
       "      <td>2019-02-27 20:22:59</td>\n",
       "    </tr>\n",
       "    <tr>\n",
       "      <td>2</td>\n",
       "      <td>2928536459</td>\n",
       "      <td>82</td>\n",
       "      <td>1499301410</td>\n",
       "      <td>2019-03-01 02:30:52</td>\n",
       "      <td>2019-03-01 02:08:30</td>\n",
       "      <td>2019-03-01 02:06:03</td>\n",
       "    </tr>\n",
       "    <tr>\n",
       "      <td>3</td>\n",
       "      <td>2928536459</td>\n",
       "      <td>82</td>\n",
       "      <td>1501289868</td>\n",
       "      <td>2019-03-04 23:19:01</td>\n",
       "      <td>2019-03-04 22:45:45</td>\n",
       "      <td>2019-03-04 22:43:18</td>\n",
       "    </tr>\n",
       "    <tr>\n",
       "      <td>4</td>\n",
       "      <td>2928536459</td>\n",
       "      <td>82</td>\n",
       "      <td>1501252484</td>\n",
       "      <td>2019-03-04 20:34:36</td>\n",
       "      <td>2019-03-04 20:10:02</td>\n",
       "      <td>2019-03-04 20:08:29</td>\n",
       "    </tr>\n",
       "    <tr>\n",
       "      <td>...</td>\n",
       "      <td>...</td>\n",
       "      <td>...</td>\n",
       "      <td>...</td>\n",
       "      <td>...</td>\n",
       "      <td>...</td>\n",
       "      <td>...</td>\n",
       "    </tr>\n",
       "    <tr>\n",
       "      <td>337392</td>\n",
       "      <td>2930606436</td>\n",
       "      <td>91</td>\n",
       "      <td>1958217128</td>\n",
       "      <td>2019-03-02 16:37:28</td>\n",
       "      <td>2019-03-02 16:06:02</td>\n",
       "      <td>2019-03-02 16:05:04</td>\n",
       "    </tr>\n",
       "    <tr>\n",
       "      <td>337393</td>\n",
       "      <td>4009183319</td>\n",
       "      <td>94</td>\n",
       "      <td>3176710501</td>\n",
       "      <td>2019-03-02 02:37:43</td>\n",
       "      <td>2019-03-02 02:18:14</td>\n",
       "      <td>2019-03-02 02:17:13</td>\n",
       "    </tr>\n",
       "    <tr>\n",
       "      <td>337394</td>\n",
       "      <td>4041638739</td>\n",
       "      <td>86</td>\n",
       "      <td>3756719381</td>\n",
       "      <td>2019-03-03 02:37:59</td>\n",
       "      <td>2019-03-03 02:08:28</td>\n",
       "      <td>2019-03-03 02:06:38</td>\n",
       "    </tr>\n",
       "    <tr>\n",
       "      <td>337395</td>\n",
       "      <td>4135119484</td>\n",
       "      <td>99</td>\n",
       "      <td>3863047771</td>\n",
       "      <td>2019-03-01 23:11:38</td>\n",
       "      <td>2019-03-01 22:38:56</td>\n",
       "      <td>2019-03-01 22:36:49</td>\n",
       "    </tr>\n",
       "    <tr>\n",
       "      <td>337396</td>\n",
       "      <td>2934290504</td>\n",
       "      <td>90</td>\n",
       "      <td>1298972111</td>\n",
       "      <td>2019-03-07 22:01:14</td>\n",
       "      <td>2019-03-07 21:36:10</td>\n",
       "      <td>2019-03-07 21:34:19</td>\n",
       "    </tr>\n",
       "  </tbody>\n",
       "</table>\n",
       "<p>337397 rows × 6 columns</p>\n",
       "</div>"
      ],
      "text/plain": [
       "               uid  worldid     game_id         dtEvnetTime  \\\n",
       "0       2928536459       82  1499793258 2019-03-02 05:40:19   \n",
       "1       2928536459       82  1498817225 2019-02-27 21:02:48   \n",
       "2       2928536459       82  1499301410 2019-03-01 02:30:52   \n",
       "3       2928536459       82  1501289868 2019-03-04 23:19:01   \n",
       "4       2928536459       82  1501252484 2019-03-04 20:34:36   \n",
       "...            ...      ...         ...                 ...   \n",
       "337392  2930606436       91  1958217128 2019-03-02 16:37:28   \n",
       "337393  4009183319       94  3176710501 2019-03-02 02:37:43   \n",
       "337394  4041638739       86  3756719381 2019-03-03 02:37:59   \n",
       "337395  4135119484       99  3863047771 2019-03-01 23:11:38   \n",
       "337396  2934290504       90  1298972111 2019-03-07 22:01:14   \n",
       "\n",
       "           dtGameStartTime         battle_time  \n",
       "0      2019-03-02 05:05:02 2019-03-02 05:03:57  \n",
       "1      2019-02-27 20:27:11 2019-02-27 20:22:59  \n",
       "2      2019-03-01 02:08:30 2019-03-01 02:06:03  \n",
       "3      2019-03-04 22:45:45 2019-03-04 22:43:18  \n",
       "4      2019-03-04 20:10:02 2019-03-04 20:08:29  \n",
       "...                    ...                 ...  \n",
       "337392 2019-03-02 16:06:02 2019-03-02 16:05:04  \n",
       "337393 2019-03-02 02:18:14 2019-03-02 02:17:13  \n",
       "337394 2019-03-03 02:08:28 2019-03-03 02:06:38  \n",
       "337395 2019-03-01 22:38:56 2019-03-01 22:36:49  \n",
       "337396 2019-03-07 21:36:10 2019-03-07 21:34:19  \n",
       "\n",
       "[337397 rows x 6 columns]"
      ]
     },
     "execution_count": 108,
     "metadata": {},
     "output_type": "execute_result"
    }
   ],
   "source": [
    "game_data[id_att+date_att]"
   ]
  },
  {
   "cell_type": "code",
   "execution_count": null,
   "metadata": {},
   "outputs": [],
   "source": [
    "prepare_data[\"battle_time\"] = pd.to_datetime(prepare_data[\"battle_time\"],format = \"%Y-%m-%d %H:%M:%S\")\n",
    "prepare_data[\"dtEvnetTime\"] = pd.to_datetime(prepare_data[\"dtEvnetTime\"],format = \"%Y-%m-%d %H:%M:%S\")\n",
    "prepare_data[\"dtGameStartTime\"] = pd.to_datetime(prepare_data[\"dtGameStartTime\"],format = \"%Y-%m-%d %H:%M:%S\")"
   ]
  },
  {
   "cell_type": "code",
   "execution_count": null,
   "metadata": {},
   "outputs": [],
   "source": [
    "#所有比赛的时间：\n",
    "#2019.02.26--2019.03.07"
   ]
  },
  {
   "cell_type": "code",
   "execution_count": null,
   "metadata": {},
   "outputs": [],
   "source": [
    "#可以看到数据的时间范围不是很长，所以，datetime的特征应该只能考虑一场比赛持续的时长等特征\n",
    "#待分析"
   ]
  },
  {
   "cell_type": "markdown",
   "metadata": {},
   "source": [
    "# 研究ext_flag和flag两个特征"
   ]
  },
  {
   "cell_type": "code",
   "execution_count": null,
   "metadata": {},
   "outputs": [],
   "source": [
    "#注，这两个特征是16进制的值，而且类型特别多与题目供述不太符，可能需要解码\n",
    "#待分析"
   ]
  },
  {
   "cell_type": "code",
   "execution_count": 93,
   "metadata": {},
   "outputs": [
    {
     "data": {
      "text/plain": [
       "array([[<matplotlib.axes._subplots.AxesSubplot object at 0x000001B6A90E3588>,\n",
       "        <matplotlib.axes._subplots.AxesSubplot object at 0x000001B6AB133188>]],\n",
       "      dtype=object)"
      ]
     },
     "execution_count": 93,
     "metadata": {},
     "output_type": "execute_result"
    },
    {
     "data": {
      "image/png": "[encoded data removed]",
      "text/plain": [
       "<Figure size 432x288 with 2 Axes>"
      ]
     },
     "metadata": {
      "needs_background": "light"
     },
     "output_type": "display_data"
    }
   ],
   "source": [
    "import matplotlib.pyplot as plt\n",
    "game_data[game_data[\"label\"]==0][complex_att_0x].hist(bins = 20)"
   ]
  },
  {
   "cell_type": "code",
   "execution_count": 94,
   "metadata": {},
   "outputs": [
    {
     "data": {
      "text/plain": [
       "array([[<matplotlib.axes._subplots.AxesSubplot object at 0x000001B6AB236048>,\n",
       "        <matplotlib.axes._subplots.AxesSubplot object at 0x000001B6AB261888>]],\n",
       "      dtype=object)"
      ]
     },
     "execution_count": 94,
     "metadata": {},
     "output_type": "execute_result"
    },
    {
     "data": {
      "image/png": "[encoded data removed]",
      "text/plain": [
       "<Figure size 432x288 with 2 Axes>"
      ]
     },
     "metadata": {
      "needs_background": "light"
     },
     "output_type": "display_data"
    }
   ],
   "source": [
    "game_data[game_data[\"label\"]==1][complex_att_0x].hist(bins = 20)"
   ]
  },
  {
   "cell_type": "code",
   "execution_count": null,
   "metadata": {},
   "outputs": [],
   "source": []
  },
  {
   "cell_type": "code",
   "execution_count": null,
   "metadata": {},
   "outputs": [],
   "source": []
  },
  {
   "cell_type": "code",
   "execution_count": null,
   "metadata": {},
   "outputs": [],
   "source": []
  },
  {
   "cell_type": "code",
   "execution_count": null,
   "metadata": {},
   "outputs": [],
   "source": []
  }
 ],
 "metadata": {
  "kernelspec": {
   "display_name": "Python 3",
   "language": "python",
   "name": "python3"
  },
  "language_info": {
   "codemirror_mode": {
    "name": "ipython",
    "version": 3
   },
   "file_extension": ".py",
   "mimetype": "text/x-python",
   "name": "python",
   "nbconvert_exporter": "python",
   "pygments_lexer": "ipython3",
   "version": "3.7.4"
  }
 },
 "nbformat": 4,
 "nbformat_minor": 2
}
